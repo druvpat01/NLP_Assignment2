{
 "cells": [
  {
   "cell_type": "code",
   "execution_count": 1,
   "metadata": {
    "id": "t3FjNSieg8Mb"
   },
   "outputs": [],
   "source": [
    "from transformers import  AutoModelForCausalLM, AutoTokenizer,LlamaConfig, LlamaForCausalLM\n",
    "import torch\n",
    "import torch.nn as nn\n",
    "import torch.nn.init as init\n",
    "import pandas as pd\n",
    "\n",
    "import warnings\n",
    "warnings.filterwarnings('ignore')\n",
    "\n",
    "import os\n",
    "os.environ['CUDA_LAUNCH_BLOCKING'] = '1'\n",
    "device = torch.device(\"cuda\" if torch.cuda.is_available() else \"cpu\")\n",
    "\n",
    "%config InlineBackend.figure_format = 'retina'"
   ]
  },
  {
   "cell_type": "markdown",
   "metadata": {
    "id": "RxRXRdxcUjwd"
   },
   "source": [
    "### Code 2"
   ]
  },
  {
   "cell_type": "code",
   "execution_count": 2,
   "metadata": {
    "colab": {
     "base_uri": "https://localhost:8080/"
    },
    "id": "c5eFRBWmuQt0",
    "outputId": "91078447-f268-4c58-d339-1cb8487251ee"
   },
   "outputs": [],
   "source": [
    "# !pip install datasets -U"
   ]
  },
  {
   "cell_type": "code",
   "execution_count": 3,
   "metadata": {
    "id": "9FO6Q2amwgxI"
   },
   "outputs": [],
   "source": [
    "from datasets import Dataset, DatasetDict\n",
    "from datasets import load_dataset\n",
    "import pandas as pd"
   ]
  },
  {
   "cell_type": "code",
   "execution_count": 4,
   "metadata": {
    "id": "uBnwvYCtbVro"
   },
   "outputs": [],
   "source": [
    "df = pd.read_csv(\"output_1500.csv\")"
   ]
  },
  {
   "cell_type": "code",
   "execution_count": 5,
   "metadata": {
    "colab": {
     "base_uri": "https://localhost:8080/",
     "height": 206
    },
    "id": "FgELaGvTvFDy",
    "outputId": "168e257d-0020-47af-9af2-31c247a2b0ac"
   },
   "outputs": [],
   "source": [
    "df = df.sample(frac=1).reset_index(drop=True)"
   ]
  },
  {
   "cell_type": "code",
   "execution_count": 6,
   "metadata": {
    "id": "v2XzuB10bVuJ"
   },
   "outputs": [],
   "source": [
    "df[\"Text\"] = df[\"Text\"] + \"<end_of_sen>\""
   ]
  },
  {
   "cell_type": "code",
   "execution_count": 7,
   "metadata": {
    "colab": {
     "base_uri": "https://localhost:8080/",
     "height": 139
    },
    "id": "PlMvYVNaF74y",
    "outputId": "c6cbcb20-0a8c-4828-f10d-a26bf78f99f3"
   },
   "outputs": [
    {
     "data": {
      "text/plain": [
       "'qui peut me renseigner sur cette maladie....symptomes,traitement,est ce grave?;va t-il pouvoir reprendre son boulot en agriculture ?<end_of_sen>'"
      ]
     },
     "execution_count": 7,
     "metadata": {},
     "output_type": "execute_result"
    }
   ],
   "source": [
    "df.iloc[0, 0]"
   ]
  },
  {
   "cell_type": "code",
   "execution_count": 8,
   "metadata": {},
   "outputs": [],
   "source": [
    "df = df.dropna()"
   ]
  },
  {
   "cell_type": "code",
   "execution_count": 9,
   "metadata": {},
   "outputs": [],
   "source": [
    "train_size = 700"
   ]
  },
  {
   "cell_type": "code",
   "execution_count": 10,
   "metadata": {},
   "outputs": [
    {
     "data": {
      "text/html": [
       "<div>\n",
       "<style scoped>\n",
       "    .dataframe tbody tr th:only-of-type {\n",
       "        vertical-align: middle;\n",
       "    }\n",
       "\n",
       "    .dataframe tbody tr th {\n",
       "        vertical-align: top;\n",
       "    }\n",
       "\n",
       "    .dataframe thead th {\n",
       "        text-align: right;\n",
       "    }\n",
       "</style>\n",
       "<table border=\"1\" class=\"dataframe\">\n",
       "  <thead>\n",
       "    <tr style=\"text-align: right;\">\n",
       "      <th></th>\n",
       "      <th>Text</th>\n",
       "    </tr>\n",
       "  </thead>\n",
       "  <tbody>\n",
       "    <tr>\n",
       "      <th>0</th>\n",
       "      <td>qui peut me renseigner sur cette maladie....sy...</td>\n",
       "    </tr>\n",
       "    <tr>\n",
       "      <th>1</th>\n",
       "      <td>Un des buts du fameux chemin spirituel, pour m...</td>\n",
       "    </tr>\n",
       "    <tr>\n",
       "      <th>2</th>\n",
       "      <td>Peut-être qu'il faut le faire au moment du tél...</td>\n",
       "    </tr>\n",
       "    <tr>\n",
       "      <th>3</th>\n",
       "      <td>Le véhicule est propulsé par un moteur diesel ...</td>\n",
       "    </tr>\n",
       "    <tr>\n",
       "      <th>4</th>\n",
       "      <td>Cela n’a rien à voir avec leur saveur, mais av...</td>\n",
       "    </tr>\n",
       "    <tr>\n",
       "      <th>...</th>\n",
       "      <td>...</td>\n",
       "    </tr>\n",
       "    <tr>\n",
       "      <th>729</th>\n",
       "      <td>Entrez sur de nouveaux marchés avec nous !&lt;end...</td>\n",
       "    </tr>\n",
       "    <tr>\n",
       "      <th>730</th>\n",
       "      <td>Pour soutenir davantage la création, nous allo...</td>\n",
       "    </tr>\n",
       "    <tr>\n",
       "      <th>731</th>\n",
       "      <td>veuillez m’excuser si je ne suis pas au bon en...</td>\n",
       "    </tr>\n",
       "    <tr>\n",
       "      <th>732</th>\n",
       "      <td>Ca me fait plaisir de voir des nouveaux qui éc...</td>\n",
       "    </tr>\n",
       "    <tr>\n",
       "      <th>733</th>\n",
       "      <td>Petites particules de déchets de verre et poud...</td>\n",
       "    </tr>\n",
       "  </tbody>\n",
       "</table>\n",
       "<p>700 rows × 1 columns</p>\n",
       "</div>"
      ],
      "text/plain": [
       "                                                  Text\n",
       "0    qui peut me renseigner sur cette maladie....sy...\n",
       "1    Un des buts du fameux chemin spirituel, pour m...\n",
       "2    Peut-être qu'il faut le faire au moment du tél...\n",
       "3    Le véhicule est propulsé par un moteur diesel ...\n",
       "4    Cela n’a rien à voir avec leur saveur, mais av...\n",
       "..                                                 ...\n",
       "729  Entrez sur de nouveaux marchés avec nous !<end...\n",
       "730  Pour soutenir davantage la création, nous allo...\n",
       "731  veuillez m’excuser si je ne suis pas au bon en...\n",
       "732  Ca me fait plaisir de voir des nouveaux qui éc...\n",
       "733  Petites particules de déchets de verre et poud...\n",
       "\n",
       "[700 rows x 1 columns]"
      ]
     },
     "execution_count": 10,
     "metadata": {},
     "output_type": "execute_result"
    }
   ],
   "source": [
    "df = df.iloc[:train_size, :]\n",
    "df"
   ]
  },
  {
   "cell_type": "code",
   "execution_count": 11,
   "metadata": {
    "id": "IFYaP67zbeh0"
   },
   "outputs": [],
   "source": [
    "tokenizer = AutoTokenizer.from_pretrained(\"test_tokenizer_1500\", model_max_length = 64)"
   ]
  },
  {
   "cell_type": "code",
   "execution_count": 12,
   "metadata": {
    "id": "WhhPZBUGb1g9"
   },
   "outputs": [],
   "source": [
    "input_ids = tokenizer(df[\"Text\"].to_list()[:], truncation = True, padding = True)[\"input_ids\"]"
   ]
  },
  {
   "cell_type": "code",
   "execution_count": 13,
   "metadata": {
    "id": "5sDJGjPOb1jV"
   },
   "outputs": [],
   "source": [
    "token_list = []\n",
    "for i in input_ids:\n",
    "  token_list.extend(i)"
   ]
  },
  {
   "cell_type": "code",
   "execution_count": 14,
   "metadata": {
    "colab": {
     "base_uri": "https://localhost:8080/"
    },
    "id": "ztNSS-fAb1ld",
    "outputId": "cad88d48-75f0-4c93-a222-58562df33988"
   },
   "outputs": [
    {
     "data": {
      "text/plain": [
       "44800"
      ]
     },
     "execution_count": 14,
     "metadata": {},
     "output_type": "execute_result"
    }
   ],
   "source": [
    "len(token_list)"
   ]
  },
  {
   "cell_type": "code",
   "execution_count": 15,
   "metadata": {
    "colab": {
     "base_uri": "https://localhost:8080/",
     "height": 89
    },
    "id": "QIAU0vUYdXNe",
    "outputId": "da36d287-d9b6-4d9d-ebe1-fd81f511493e"
   },
   "outputs": [
    {
     "data": {
      "text/html": [
       "<div>\n",
       "<style scoped>\n",
       "    .dataframe tbody tr th:only-of-type {\n",
       "        vertical-align: middle;\n",
       "    }\n",
       "\n",
       "    .dataframe tbody tr th {\n",
       "        vertical-align: top;\n",
       "    }\n",
       "\n",
       "    .dataframe thead th {\n",
       "        text-align: right;\n",
       "    }\n",
       "</style>\n",
       "<table border=\"1\" class=\"dataframe\">\n",
       "  <thead>\n",
       "    <tr style=\"text-align: right;\">\n",
       "      <th></th>\n",
       "      <th>input_ids</th>\n",
       "    </tr>\n",
       "  </thead>\n",
       "  <tbody>\n",
       "  </tbody>\n",
       "</table>\n",
       "</div>"
      ],
      "text/plain": [
       "Empty DataFrame\n",
       "Columns: [input_ids]\n",
       "Index: []"
      ]
     },
     "execution_count": 15,
     "metadata": {},
     "output_type": "execute_result"
    }
   ],
   "source": [
    "df = pd.DataFrame(columns=[\"input_ids\"])\n",
    "df"
   ]
  },
  {
   "cell_type": "code",
   "execution_count": 16,
   "metadata": {
    "id": "agY1TB8ieoJ2"
   },
   "outputs": [],
   "source": [
    "context_len = 64      ## Taking less because I have less data\n",
    "token_batch = []\n",
    "for i in input_ids:\n",
    "  token_batch.append(token_list[:context_len])\n",
    "  token_list = token_list[context_len:]"
   ]
  },
  {
   "cell_type": "code",
   "execution_count": 17,
   "metadata": {
    "colab": {
     "base_uri": "https://localhost:8080/"
    },
    "id": "rUAE7iu6ceb5",
    "outputId": "d3821c8e-2440-4e30-a1b5-12eb21989388"
   },
   "outputs": [
    {
     "data": {
      "text/plain": [
       "64"
      ]
     },
     "execution_count": 17,
     "metadata": {},
     "output_type": "execute_result"
    }
   ],
   "source": [
    "len(token_batch[-1])"
   ]
  },
  {
   "cell_type": "code",
   "execution_count": 18,
   "metadata": {
    "colab": {
     "base_uri": "https://localhost:8080/",
     "height": 125
    },
    "id": "5SR-FNKLc_vW",
    "outputId": "06ed7084-ccf0-43ab-fd2a-0e390327eee3"
   },
   "outputs": [
    {
     "data": {
      "text/html": [
       "<div>\n",
       "<style scoped>\n",
       "    .dataframe tbody tr th:only-of-type {\n",
       "        vertical-align: middle;\n",
       "    }\n",
       "\n",
       "    .dataframe tbody tr th {\n",
       "        vertical-align: top;\n",
       "    }\n",
       "\n",
       "    .dataframe thead th {\n",
       "        text-align: right;\n",
       "    }\n",
       "</style>\n",
       "<table border=\"1\" class=\"dataframe\">\n",
       "  <thead>\n",
       "    <tr style=\"text-align: right;\">\n",
       "      <th></th>\n",
       "      <th>input_ids</th>\n",
       "    </tr>\n",
       "  </thead>\n",
       "  <tbody>\n",
       "    <tr>\n",
       "      <th>0</th>\n",
       "      <td>[0, 0, 0, 0, 0, 0, 0, 0, 0, 0, 0, 0, 0, 0, 0, ...</td>\n",
       "    </tr>\n",
       "    <tr>\n",
       "      <th>1</th>\n",
       "      <td>[0, 0, 0, 0, 0, 0, 0, 0, 0, 0, 0, 0, 0, 0, 0, ...</td>\n",
       "    </tr>\n",
       "    <tr>\n",
       "      <th>2</th>\n",
       "      <td>[0, 0, 0, 0, 0, 0, 0, 0, 0, 0, 0, 0, 0, 0, 0, ...</td>\n",
       "    </tr>\n",
       "    <tr>\n",
       "      <th>3</th>\n",
       "      <td>[1229, 5822, 1110, 1805, 17254, 197, 1078, 107...</td>\n",
       "    </tr>\n",
       "    <tr>\n",
       "      <th>4</th>\n",
       "      <td>[0, 0, 0, 0, 0, 0, 0, 0, 0, 0, 0, 0, 0, 0, 0, ...</td>\n",
       "    </tr>\n",
       "    <tr>\n",
       "      <th>...</th>\n",
       "      <td>...</td>\n",
       "    </tr>\n",
       "    <tr>\n",
       "      <th>695</th>\n",
       "      <td>[0, 0, 0, 0, 0, 0, 0, 0, 0, 0, 0, 0, 0, 0, 0, ...</td>\n",
       "    </tr>\n",
       "    <tr>\n",
       "      <th>696</th>\n",
       "      <td>[0, 0, 0, 0, 0, 0, 0, 0, 0, 0, 0, 0, 0, 1392, ...</td>\n",
       "    </tr>\n",
       "    <tr>\n",
       "      <th>697</th>\n",
       "      <td>[0, 0, 0, 0, 0, 0, 0, 0, 0, 0, 0, 0, 0, 0, 0, ...</td>\n",
       "    </tr>\n",
       "    <tr>\n",
       "      <th>698</th>\n",
       "      <td>[0, 0, 0, 0, 0, 0, 0, 0, 0, 0, 0, 0, 0, 0, 0, ...</td>\n",
       "    </tr>\n",
       "    <tr>\n",
       "      <th>699</th>\n",
       "      <td>[0, 0, 0, 0, 0, 0, 0, 0, 0, 0, 0, 0, 0, 0, 0, ...</td>\n",
       "    </tr>\n",
       "  </tbody>\n",
       "</table>\n",
       "<p>700 rows × 1 columns</p>\n",
       "</div>"
      ],
      "text/plain": [
       "                                             input_ids\n",
       "0    [0, 0, 0, 0, 0, 0, 0, 0, 0, 0, 0, 0, 0, 0, 0, ...\n",
       "1    [0, 0, 0, 0, 0, 0, 0, 0, 0, 0, 0, 0, 0, 0, 0, ...\n",
       "2    [0, 0, 0, 0, 0, 0, 0, 0, 0, 0, 0, 0, 0, 0, 0, ...\n",
       "3    [1229, 5822, 1110, 1805, 17254, 197, 1078, 107...\n",
       "4    [0, 0, 0, 0, 0, 0, 0, 0, 0, 0, 0, 0, 0, 0, 0, ...\n",
       "..                                                 ...\n",
       "695  [0, 0, 0, 0, 0, 0, 0, 0, 0, 0, 0, 0, 0, 0, 0, ...\n",
       "696  [0, 0, 0, 0, 0, 0, 0, 0, 0, 0, 0, 0, 0, 1392, ...\n",
       "697  [0, 0, 0, 0, 0, 0, 0, 0, 0, 0, 0, 0, 0, 0, 0, ...\n",
       "698  [0, 0, 0, 0, 0, 0, 0, 0, 0, 0, 0, 0, 0, 0, 0, ...\n",
       "699  [0, 0, 0, 0, 0, 0, 0, 0, 0, 0, 0, 0, 0, 0, 0, ...\n",
       "\n",
       "[700 rows x 1 columns]"
      ]
     },
     "execution_count": 18,
     "metadata": {},
     "output_type": "execute_result"
    }
   ],
   "source": [
    "df[\"input_ids\"] = token_batch\n",
    "df"
   ]
  },
  {
   "cell_type": "code",
   "execution_count": 19,
   "metadata": {},
   "outputs": [],
   "source": [
    "attn_mask = [[1]*64]*len(df)"
   ]
  },
  {
   "cell_type": "code",
   "execution_count": 20,
   "metadata": {
    "id": "8AMf9KkxrWMp"
   },
   "outputs": [],
   "source": [
    "# df[\"attention_mask\"] = attn_mask\n",
    "df['labels'] = df['input_ids']"
   ]
  },
  {
   "cell_type": "code",
   "execution_count": 21,
   "metadata": {},
   "outputs": [
    {
     "data": {
      "text/html": [
       "<div>\n",
       "<style scoped>\n",
       "    .dataframe tbody tr th:only-of-type {\n",
       "        vertical-align: middle;\n",
       "    }\n",
       "\n",
       "    .dataframe tbody tr th {\n",
       "        vertical-align: top;\n",
       "    }\n",
       "\n",
       "    .dataframe thead th {\n",
       "        text-align: right;\n",
       "    }\n",
       "</style>\n",
       "<table border=\"1\" class=\"dataframe\">\n",
       "  <thead>\n",
       "    <tr style=\"text-align: right;\">\n",
       "      <th></th>\n",
       "      <th>input_ids</th>\n",
       "      <th>labels</th>\n",
       "    </tr>\n",
       "  </thead>\n",
       "  <tbody>\n",
       "    <tr>\n",
       "      <th>0</th>\n",
       "      <td>[0, 0, 0, 0, 0, 0, 0, 0, 0, 0, 0, 0, 0, 0, 0, ...</td>\n",
       "      <td>[0, 0, 0, 0, 0, 0, 0, 0, 0, 0, 0, 0, 0, 0, 0, ...</td>\n",
       "    </tr>\n",
       "    <tr>\n",
       "      <th>1</th>\n",
       "      <td>[0, 0, 0, 0, 0, 0, 0, 0, 0, 0, 0, 0, 0, 0, 0, ...</td>\n",
       "      <td>[0, 0, 0, 0, 0, 0, 0, 0, 0, 0, 0, 0, 0, 0, 0, ...</td>\n",
       "    </tr>\n",
       "    <tr>\n",
       "      <th>2</th>\n",
       "      <td>[0, 0, 0, 0, 0, 0, 0, 0, 0, 0, 0, 0, 0, 0, 0, ...</td>\n",
       "      <td>[0, 0, 0, 0, 0, 0, 0, 0, 0, 0, 0, 0, 0, 0, 0, ...</td>\n",
       "    </tr>\n",
       "    <tr>\n",
       "      <th>3</th>\n",
       "      <td>[1229, 5822, 1110, 1805, 17254, 197, 1078, 107...</td>\n",
       "      <td>[1229, 5822, 1110, 1805, 17254, 197, 1078, 107...</td>\n",
       "    </tr>\n",
       "    <tr>\n",
       "      <th>4</th>\n",
       "      <td>[0, 0, 0, 0, 0, 0, 0, 0, 0, 0, 0, 0, 0, 0, 0, ...</td>\n",
       "      <td>[0, 0, 0, 0, 0, 0, 0, 0, 0, 0, 0, 0, 0, 0, 0, ...</td>\n",
       "    </tr>\n",
       "  </tbody>\n",
       "</table>\n",
       "</div>"
      ],
      "text/plain": [
       "                                           input_ids  \\\n",
       "0  [0, 0, 0, 0, 0, 0, 0, 0, 0, 0, 0, 0, 0, 0, 0, ...   \n",
       "1  [0, 0, 0, 0, 0, 0, 0, 0, 0, 0, 0, 0, 0, 0, 0, ...   \n",
       "2  [0, 0, 0, 0, 0, 0, 0, 0, 0, 0, 0, 0, 0, 0, 0, ...   \n",
       "3  [1229, 5822, 1110, 1805, 17254, 197, 1078, 107...   \n",
       "4  [0, 0, 0, 0, 0, 0, 0, 0, 0, 0, 0, 0, 0, 0, 0, ...   \n",
       "\n",
       "                                              labels  \n",
       "0  [0, 0, 0, 0, 0, 0, 0, 0, 0, 0, 0, 0, 0, 0, 0, ...  \n",
       "1  [0, 0, 0, 0, 0, 0, 0, 0, 0, 0, 0, 0, 0, 0, 0, ...  \n",
       "2  [0, 0, 0, 0, 0, 0, 0, 0, 0, 0, 0, 0, 0, 0, 0, ...  \n",
       "3  [1229, 5822, 1110, 1805, 17254, 197, 1078, 107...  \n",
       "4  [0, 0, 0, 0, 0, 0, 0, 0, 0, 0, 0, 0, 0, 0, 0, ...  "
      ]
     },
     "execution_count": 21,
     "metadata": {},
     "output_type": "execute_result"
    }
   ],
   "source": [
    "# df = df.iloc[:100,:]\n",
    "df.head()"
   ]
  },
  {
   "cell_type": "code",
   "execution_count": 22,
   "metadata": {
    "colab": {
     "base_uri": "https://localhost:8080/"
    },
    "id": "lOu6Zf4-gmps",
    "outputId": "3bc4215d-efc4-4dba-b27b-16490fe43459"
   },
   "outputs": [
    {
     "data": {
      "text/plain": [
       "Dataset({\n",
       "    features: ['input_ids', 'labels'],\n",
       "    num_rows: 700\n",
       "})"
      ]
     },
     "execution_count": 22,
     "metadata": {},
     "output_type": "execute_result"
    }
   ],
   "source": [
    "hf_dataset = Dataset.from_pandas(df)\n",
    "hf_dataset"
   ]
  },
  {
   "cell_type": "code",
   "execution_count": 23,
   "metadata": {
    "id": "QRhq3gJWxAZX"
   },
   "outputs": [],
   "source": [
    "split_dataset = hf_dataset.train_test_split(test_size=0.3)  # Adjust test_size as needed\n",
    "\n",
    "train_dataset = split_dataset['train']\n",
    "eval_dataset = split_dataset['test']"
   ]
  },
  {
   "cell_type": "code",
   "execution_count": 24,
   "metadata": {
    "colab": {
     "base_uri": "https://localhost:8080/"
    },
    "id": "Lja1aZ4Dpycn",
    "outputId": "4009520a-3601-43b4-b0a1-ce8789147b96"
   },
   "outputs": [
    {
     "data": {
      "text/plain": [
       "datasets.arrow_dataset.Dataset"
      ]
     },
     "execution_count": 24,
     "metadata": {},
     "output_type": "execute_result"
    }
   ],
   "source": [
    "type(train_dataset)"
   ]
  },
  {
   "cell_type": "code",
   "execution_count": 25,
   "metadata": {
    "colab": {
     "base_uri": "https://localhost:8080/",
     "height": 98,
     "referenced_widgets": [
      "5d91d3e8a6934c78a9e6a82e8e0eaaef",
      "aac9c2297b524d82a2b09b49ad9f96d7",
      "9e2f071369f3409b8743f2679724749f",
      "882b4b2dd53a46a5a9b1fff3c818f2eb",
      "73f3cd6424a94e3b814db148f235e4cc",
      "7b5de70a953e4a52814ad2547adfd7ee",
      "56d1511d73764d19ab218f8f035de435",
      "80c7921a3b394003bd18f0d032be554c",
      "aec4403a39c448f0b2e70608ddc8be85",
      "fb02826cbcca4406a8b4c133f60ddd47",
      "a8f8a1a8a13c48f59f9b9c1150c4f117",
      "d6d77a8cfed94cf68db2c7d647cddf95",
      "ea55fbf81cae4df0b57d82d33f15aa63",
      "95328cab32d24d72877b7dadbc7305b9",
      "511cf832fdeb47879e0ff2df9b3ed6d3",
      "97b91c140b7745f28982a0713e12ac63",
      "dee2de472ec54b17a91c63380fe74a21",
      "3e95ad4ca1304717808be523148b2463",
      "d3f9503636f340bb87611ca7e371759c",
      "576885209d104288a6ca0a43a3a27468",
      "14ee655203f546c48d5f351863d2a51f",
      "2f9e8a26219e4c7f9ea116abfa73a750"
     ]
    },
    "id": "RQRUe8kWxIN9",
    "outputId": "11c0bd54-cb37-4162-9afe-f50859b53825"
   },
   "outputs": [
    {
     "data": {
      "application/vnd.jupyter.widget-view+json": {
       "model_id": "6926dd204ce346d5a5b1f4a15b94bbf3",
       "version_major": 2,
       "version_minor": 0
      },
      "text/plain": [
       "Creating parquet from Arrow format:   0%|          | 0/1 [00:00<?, ?ba/s]"
      ]
     },
     "metadata": {},
     "output_type": "display_data"
    },
    {
     "data": {
      "application/vnd.jupyter.widget-view+json": {
       "model_id": "e917beaa979a412dae1d97c669911a5f",
       "version_major": 2,
       "version_minor": 0
      },
      "text/plain": [
       "Creating parquet from Arrow format:   0%|          | 0/1 [00:00<?, ?ba/s]"
      ]
     },
     "metadata": {},
     "output_type": "display_data"
    },
    {
     "data": {
      "text/plain": [
       "216720"
      ]
     },
     "execution_count": 25,
     "metadata": {},
     "output_type": "execute_result"
    }
   ],
   "source": [
    "train_dataset.to_parquet(\"fr_dataset_token_train.parquet\")\n",
    "eval_dataset.to_parquet(\"fr_dataset_token_test.parquet\")"
   ]
  },
  {
   "cell_type": "markdown",
   "metadata": {},
   "source": [
    "### Code 1"
   ]
  },
  {
   "cell_type": "code",
   "execution_count": 26,
   "metadata": {},
   "outputs": [],
   "source": [
    "tokenizer = AutoTokenizer.from_pretrained(\"test_tokenizer_1500\")"
   ]
  },
  {
   "cell_type": "code",
   "execution_count": 27,
   "metadata": {},
   "outputs": [
    {
     "data": {
      "text/plain": [
       "32769"
      ]
     },
     "execution_count": 27,
     "metadata": {},
     "output_type": "execute_result"
    }
   ],
   "source": [
    "len(tokenizer.vocab)"
   ]
  },
  {
   "cell_type": "code",
   "execution_count": 28,
   "metadata": {},
   "outputs": [
    {
     "data": {
      "text/plain": [
       "LlamaConfig {\n",
       "  \"attention_bias\": false,\n",
       "  \"attention_dropout\": 0.0,\n",
       "  \"bos_token_id\": 1,\n",
       "  \"eos_token_id\": 2,\n",
       "  \"head_dim\": 32,\n",
       "  \"hidden_act\": \"silu\",\n",
       "  \"hidden_size\": 512,\n",
       "  \"initializer_range\": 0.02,\n",
       "  \"intermediate_size\": 512,\n",
       "  \"max_position_embeddings\": 64,\n",
       "  \"mlp_bias\": false,\n",
       "  \"model_type\": \"llama\",\n",
       "  \"num_attention_heads\": 16,\n",
       "  \"num_hidden_layers\": 32,\n",
       "  \"num_key_value_head\": 2,\n",
       "  \"num_key_value_heads\": 16,\n",
       "  \"pretraining_tp\": 1,\n",
       "  \"rms_norm_eps\": 1e-06,\n",
       "  \"rope_scaling\": null,\n",
       "  \"rope_theta\": 10000.0,\n",
       "  \"tie_word_embeddings\": false,\n",
       "  \"transformers_version\": \"4.46.2\",\n",
       "  \"use_cache\": true,\n",
       "  \"vocab_size\": 32769\n",
       "}"
      ]
     },
     "execution_count": 28,
     "metadata": {},
     "output_type": "execute_result"
    }
   ],
   "source": [
    "config = LlamaConfig(hidden_size=512,\n",
    "                     vocab_size=len(tokenizer.vocab),\n",
    "                     num_attention_heads=16,\n",
    "                     num_key_value_head =2,\n",
    "                     num_hidden_layers=32,\n",
    "                     intermediate_size=512,\n",
    "                     eos_token_id = 2,\n",
    "                     bos_token_id = 1,\n",
    "                     max_position_embeddings=64)\n",
    "config"
   ]
  },
  {
   "cell_type": "code",
   "execution_count": 29,
   "metadata": {},
   "outputs": [],
   "source": [
    "model_mis = LlamaForCausalLM(config)"
   ]
  },
  {
   "cell_type": "code",
   "execution_count": 30,
   "metadata": {},
   "outputs": [],
   "source": [
    "for i,j in model_mis.named_parameters():\n",
    "  if j.requires_grad and len(j.size()) > 1:\n",
    "    init.xavier_uniform_(j.data)"
   ]
  },
  {
   "cell_type": "code",
   "execution_count": 31,
   "metadata": {},
   "outputs": [
    {
     "name": "stdout",
     "output_type": "stream",
     "text": [
      "Number of Parameters: 92.308992\n"
     ]
    }
   ],
   "source": [
    "total_param=0\n",
    "for i,j in model_mis.named_parameters():\n",
    "    total_param += j.numel()\n",
    "print(\"Number of Parameters:\",total_param/(10**6))"
   ]
  },
  {
   "cell_type": "code",
   "execution_count": 32,
   "metadata": {},
   "outputs": [
    {
     "data": {
      "text/plain": [
       "('save_test_tokenizer\\\\tokenizer_config.json',\n",
       " 'save_test_tokenizer\\\\special_tokens_map.json',\n",
       " 'save_test_tokenizer\\\\tokenizer.json')"
      ]
     },
     "execution_count": 32,
     "metadata": {},
     "output_type": "execute_result"
    }
   ],
   "source": [
    "model_mis.save_pretrained(\"save_test_tokenizer\")\n",
    "tokenizer.save_pretrained(\"save_test_tokenizer\")"
   ]
  },
  {
   "cell_type": "markdown",
   "metadata": {
    "id": "RUXujfvYWh6s"
   },
   "source": [
    "### Code 3"
   ]
  },
  {
   "cell_type": "code",
   "execution_count": 33,
   "metadata": {
    "id": "jh6KPRk5lxEF"
   },
   "outputs": [
    {
     "name": "stdout",
     "output_type": "stream",
     "text": [
      "WARNING:tensorflow:From c:\\Users\\hp\\AppData\\Local\\Programs\\Python\\Python311\\Lib\\site-packages\\tf_keras\\src\\losses.py:2976: The name tf.losses.sparse_softmax_cross_entropy is deprecated. Please use tf.compat.v1.losses.sparse_softmax_cross_entropy instead.\n",
      "\n"
     ]
    }
   ],
   "source": [
    "from transformers import Trainer, TrainingArguments, TrainerCallback\n",
    "import math"
   ]
  },
  {
   "cell_type": "code",
   "execution_count": 34,
   "metadata": {},
   "outputs": [],
   "source": [
    "per_epoch = []\n",
    "perplex = []"
   ]
  },
  {
   "cell_type": "code",
   "execution_count": 35,
   "metadata": {},
   "outputs": [],
   "source": [
    "class PerplexityCallback(TrainerCallback):\n",
    "    def on_epoch_end(self, args, state, control, model=None, **kwargs):\n",
    "        if state.log_history:  # Log history should have recent metrics\n",
    "            for entry in reversed(state.log_history):\n",
    "                if \"eval_loss\" in entry:\n",
    "                    eval_loss = entry[\"eval_loss\"]\n",
    "                    perplexity = math.exp(eval_loss)\n",
    "                    per_epoch.append(state.epoch)\n",
    "                    perplex.append(perplexity)\n",
    "                    if state.epoch % 10 == 0:  # Every 10 epochs\n",
    "                        print(f\"Epoch {state.epoch}\")\n",
    "                        print(f\"Perplexity = {perplexity:.4f}\")\n",
    "                    break\n"
   ]
  },
  {
   "cell_type": "code",
   "execution_count": 36,
   "metadata": {
    "id": "Hr_RArOxtEEO"
   },
   "outputs": [],
   "source": [
    "training_args = TrainingArguments(\n",
    "    output_dir=\"./fr_model\",\n",
    "    overwrite_output_dir=True,\n",
    "    evaluation_strategy= 'epoch',\n",
    "    logging_strategy= 'epoch',\n",
    "    save_strategy='epoch',\n",
    "    num_train_epochs=100,\n",
    "    logging_steps=1,\n",
    "    learning_rate=2e-3,\n",
    "    bf16=True,\n",
    "    do_train=True,\n",
    "    per_device_train_batch_size= 100,\n",
    "    save_steps=20,\n",
    "    save_total_limit=2,\n",
    "    report_to=\"none\",\n",
    ")"
   ]
  },
  {
   "cell_type": "code",
   "execution_count": 37,
   "metadata": {
    "id": "mtbHmZCltEGW"
   },
   "outputs": [],
   "source": [
    "trainer = Trainer(\n",
    "    model=model_mis,\n",
    "    args=training_args,\n",
    "    train_dataset=train_dataset,\n",
    "    eval_dataset=eval_dataset,\n",
    "    tokenizer=tokenizer,\n",
    "    callbacks= [PerplexityCallback()]\n",
    ")"
   ]
  },
  {
   "cell_type": "code",
   "execution_count": 38,
   "metadata": {
    "id": "CTRk3nCl5UqB"
   },
   "outputs": [],
   "source": [
    "tokenizer.pad_token = tokenizer.eos_token"
   ]
  },
  {
   "cell_type": "code",
   "execution_count": 39,
   "metadata": {
    "colab": {
     "base_uri": "https://localhost:8080/",
     "height": 423
    },
    "id": "ud-Id7hotEQl",
    "outputId": "f418f94c-3feb-4404-b142-f5bab7e6fcc2"
   },
   "outputs": [
    {
     "data": {
      "application/vnd.jupyter.widget-view+json": {
       "model_id": "b5e8011893464456a2f0c803c6c80085",
       "version_major": 2,
       "version_minor": 0
      },
      "text/plain": [
       "  0%|          | 0/500 [00:00<?, ?it/s]"
      ]
     },
     "metadata": {},
     "output_type": "display_data"
    },
    {
     "name": "stdout",
     "output_type": "stream",
     "text": [
      "{'loss': 7.8823, 'grad_norm': 10.83006763458252, 'learning_rate': 0.00198, 'epoch': 1.0}\n"
     ]
    },
    {
     "data": {
      "application/vnd.jupyter.widget-view+json": {
       "model_id": "e4b694cc4a28407cab1e027c9b93c2a4",
       "version_major": 2,
       "version_minor": 0
      },
      "text/plain": [
       "  0%|          | 0/27 [00:00<?, ?it/s]"
      ]
     },
     "metadata": {},
     "output_type": "display_data"
    },
    {
     "name": "stdout",
     "output_type": "stream",
     "text": [
      "{'eval_loss': 5.341874122619629, 'eval_runtime': 65.3044, 'eval_samples_per_second': 3.216, 'eval_steps_per_second': 0.413, 'epoch': 1.0}\n",
      "{'loss': 4.5232, 'grad_norm': 4.135104656219482, 'learning_rate': 0.00196, 'epoch': 2.0}\n"
     ]
    },
    {
     "data": {
      "application/vnd.jupyter.widget-view+json": {
       "model_id": "7684e091762045a18821ba3c93aa6918",
       "version_major": 2,
       "version_minor": 0
      },
      "text/plain": [
       "  0%|          | 0/27 [00:00<?, ?it/s]"
      ]
     },
     "metadata": {},
     "output_type": "display_data"
    },
    {
     "name": "stdout",
     "output_type": "stream",
     "text": [
      "{'eval_loss': 5.084144115447998, 'eval_runtime': 67.213, 'eval_samples_per_second': 3.124, 'eval_steps_per_second': 0.402, 'epoch': 2.0}\n",
      "{'loss': 4.3328, 'grad_norm': 5.754868030548096, 'learning_rate': 0.0019399999999999999, 'epoch': 3.0}\n"
     ]
    },
    {
     "data": {
      "application/vnd.jupyter.widget-view+json": {
       "model_id": "ba76b530a64e48bfb1d1e0f6139c9c93",
       "version_major": 2,
       "version_minor": 0
      },
      "text/plain": [
       "  0%|          | 0/27 [00:00<?, ?it/s]"
      ]
     },
     "metadata": {},
     "output_type": "display_data"
    },
    {
     "name": "stdout",
     "output_type": "stream",
     "text": [
      "{'eval_loss': 5.077797889709473, 'eval_runtime': 66.4613, 'eval_samples_per_second': 3.16, 'eval_steps_per_second': 0.406, 'epoch': 3.0}\n",
      "{'loss': 4.2184, 'grad_norm': 1.5312623977661133, 'learning_rate': 0.00192, 'epoch': 4.0}\n"
     ]
    },
    {
     "data": {
      "application/vnd.jupyter.widget-view+json": {
       "model_id": "55a38ca618d34151a4f4348479e274dd",
       "version_major": 2,
       "version_minor": 0
      },
      "text/plain": [
       "  0%|          | 0/27 [00:00<?, ?it/s]"
      ]
     },
     "metadata": {},
     "output_type": "display_data"
    },
    {
     "name": "stdout",
     "output_type": "stream",
     "text": [
      "{'eval_loss': 5.037759304046631, 'eval_runtime': 67.172, 'eval_samples_per_second': 3.126, 'eval_steps_per_second': 0.402, 'epoch': 4.0}\n",
      "{'loss': 4.0415, 'grad_norm': 3.030031204223633, 'learning_rate': 0.0019, 'epoch': 5.0}\n"
     ]
    },
    {
     "data": {
      "application/vnd.jupyter.widget-view+json": {
       "model_id": "d561277de9b84ddcb25532855c35a114",
       "version_major": 2,
       "version_minor": 0
      },
      "text/plain": [
       "  0%|          | 0/27 [00:00<?, ?it/s]"
      ]
     },
     "metadata": {},
     "output_type": "display_data"
    },
    {
     "name": "stdout",
     "output_type": "stream",
     "text": [
      "{'eval_loss': 4.690997123718262, 'eval_runtime': 66.0881, 'eval_samples_per_second': 3.178, 'eval_steps_per_second': 0.409, 'epoch': 5.0}\n",
      "{'loss': 3.7058, 'grad_norm': 0.3274911642074585, 'learning_rate': 0.00188, 'epoch': 6.0}\n"
     ]
    },
    {
     "data": {
      "application/vnd.jupyter.widget-view+json": {
       "model_id": "011457fdc682405083fcf22375c68ec3",
       "version_major": 2,
       "version_minor": 0
      },
      "text/plain": [
       "  0%|          | 0/27 [00:00<?, ?it/s]"
      ]
     },
     "metadata": {},
     "output_type": "display_data"
    },
    {
     "name": "stdout",
     "output_type": "stream",
     "text": [
      "{'eval_loss': 4.8733367919921875, 'eval_runtime': 36.0569, 'eval_samples_per_second': 5.824, 'eval_steps_per_second': 0.749, 'epoch': 6.0}\n",
      "{'loss': 3.6343, 'grad_norm': 3.964893102645874, 'learning_rate': 0.00186, 'epoch': 7.0}\n"
     ]
    },
    {
     "data": {
      "application/vnd.jupyter.widget-view+json": {
       "model_id": "79a689dd4647439e9a413f95bfba786e",
       "version_major": 2,
       "version_minor": 0
      },
      "text/plain": [
       "  0%|          | 0/27 [00:00<?, ?it/s]"
      ]
     },
     "metadata": {},
     "output_type": "display_data"
    },
    {
     "name": "stdout",
     "output_type": "stream",
     "text": [
      "{'eval_loss': 4.828609943389893, 'eval_runtime': 36.5762, 'eval_samples_per_second': 5.741, 'eval_steps_per_second': 0.738, 'epoch': 7.0}\n",
      "{'loss': 3.5964, 'grad_norm': 0.43179377913475037, 'learning_rate': 0.00184, 'epoch': 8.0}\n"
     ]
    },
    {
     "data": {
      "application/vnd.jupyter.widget-view+json": {
       "model_id": "1536783575de4f77be0274fa1cffccf2",
       "version_major": 2,
       "version_minor": 0
      },
      "text/plain": [
       "  0%|          | 0/27 [00:00<?, ?it/s]"
      ]
     },
     "metadata": {},
     "output_type": "display_data"
    },
    {
     "name": "stdout",
     "output_type": "stream",
     "text": [
      "{'eval_loss': 4.660287857055664, 'eval_runtime': 41.748, 'eval_samples_per_second': 5.03, 'eval_steps_per_second': 0.647, 'epoch': 8.0}\n",
      "{'loss': 3.5288, 'grad_norm': 1.0899018049240112, 'learning_rate': 0.00182, 'epoch': 9.0}\n"
     ]
    },
    {
     "data": {
      "application/vnd.jupyter.widget-view+json": {
       "model_id": "91ecbeee188e4fe4bf04a1c7e0b0d49d",
       "version_major": 2,
       "version_minor": 0
      },
      "text/plain": [
       "  0%|          | 0/27 [00:00<?, ?it/s]"
      ]
     },
     "metadata": {},
     "output_type": "display_data"
    },
    {
     "name": "stdout",
     "output_type": "stream",
     "text": [
      "{'eval_loss': 4.745774269104004, 'eval_runtime': 58.0738, 'eval_samples_per_second': 3.616, 'eval_steps_per_second': 0.465, 'epoch': 9.0}\n",
      "Epoch 10.0\n",
      "Perplexity = 115.0969\n",
      "{'loss': 3.5043, 'grad_norm': 0.31293967366218567, 'learning_rate': 0.0018000000000000002, 'epoch': 10.0}\n"
     ]
    },
    {
     "data": {
      "application/vnd.jupyter.widget-view+json": {
       "model_id": "587d6f7c957a4205894d4a060fb59a57",
       "version_major": 2,
       "version_minor": 0
      },
      "text/plain": [
       "  0%|          | 0/27 [00:00<?, ?it/s]"
      ]
     },
     "metadata": {},
     "output_type": "display_data"
    },
    {
     "name": "stdout",
     "output_type": "stream",
     "text": [
      "{'eval_loss': 4.746968746185303, 'eval_runtime': 57.3087, 'eval_samples_per_second': 3.664, 'eval_steps_per_second': 0.471, 'epoch': 10.0}\n",
      "{'loss': 3.4705, 'grad_norm': 0.3022761344909668, 'learning_rate': 0.0017800000000000001, 'epoch': 11.0}\n"
     ]
    },
    {
     "data": {
      "application/vnd.jupyter.widget-view+json": {
       "model_id": "5f0b00a0ce0d48589aa4ac284afed95e",
       "version_major": 2,
       "version_minor": 0
      },
      "text/plain": [
       "  0%|          | 0/27 [00:00<?, ?it/s]"
      ]
     },
     "metadata": {},
     "output_type": "display_data"
    },
    {
     "name": "stdout",
     "output_type": "stream",
     "text": [
      "{'eval_loss': 4.784313678741455, 'eval_runtime': 56.962, 'eval_samples_per_second': 3.687, 'eval_steps_per_second': 0.474, 'epoch': 11.0}\n",
      "{'loss': 3.4239, 'grad_norm': 0.2797553837299347, 'learning_rate': 0.00176, 'epoch': 12.0}\n"
     ]
    },
    {
     "data": {
      "application/vnd.jupyter.widget-view+json": {
       "model_id": "b2f23d6ba9574205b9336ca729ad41cc",
       "version_major": 2,
       "version_minor": 0
      },
      "text/plain": [
       "  0%|          | 0/27 [00:00<?, ?it/s]"
      ]
     },
     "metadata": {},
     "output_type": "display_data"
    },
    {
     "name": "stdout",
     "output_type": "stream",
     "text": [
      "{'eval_loss': 4.777924537658691, 'eval_runtime': 58.808, 'eval_samples_per_second': 3.571, 'eval_steps_per_second': 0.459, 'epoch': 12.0}\n",
      "{'loss': 3.372, 'grad_norm': 0.27372387051582336, 'learning_rate': 0.00174, 'epoch': 13.0}\n"
     ]
    },
    {
     "data": {
      "application/vnd.jupyter.widget-view+json": {
       "model_id": "3c2259d745c349df98aba6ec673d3712",
       "version_major": 2,
       "version_minor": 0
      },
      "text/plain": [
       "  0%|          | 0/27 [00:00<?, ?it/s]"
      ]
     },
     "metadata": {},
     "output_type": "display_data"
    },
    {
     "name": "stdout",
     "output_type": "stream",
     "text": [
      "{'eval_loss': 4.916806221008301, 'eval_runtime': 58.8952, 'eval_samples_per_second': 3.566, 'eval_steps_per_second': 0.458, 'epoch': 13.0}\n",
      "{'loss': 3.3172, 'grad_norm': 0.3576394319534302, 'learning_rate': 0.00172, 'epoch': 14.0}\n"
     ]
    },
    {
     "data": {
      "application/vnd.jupyter.widget-view+json": {
       "model_id": "d5d4434c8c4244d48f12b66c0124db07",
       "version_major": 2,
       "version_minor": 0
      },
      "text/plain": [
       "  0%|          | 0/27 [00:00<?, ?it/s]"
      ]
     },
     "metadata": {},
     "output_type": "display_data"
    },
    {
     "name": "stdout",
     "output_type": "stream",
     "text": [
      "{'eval_loss': 4.782943248748779, 'eval_runtime': 66.8808, 'eval_samples_per_second': 3.14, 'eval_steps_per_second': 0.404, 'epoch': 14.0}\n",
      "{'loss': 3.2378, 'grad_norm': 0.3370823264122009, 'learning_rate': 0.0017, 'epoch': 15.0}\n"
     ]
    },
    {
     "data": {
      "application/vnd.jupyter.widget-view+json": {
       "model_id": "24f73e43ce594a909e7f5e3cc18c9d77",
       "version_major": 2,
       "version_minor": 0
      },
      "text/plain": [
       "  0%|          | 0/27 [00:00<?, ?it/s]"
      ]
     },
     "metadata": {},
     "output_type": "display_data"
    },
    {
     "name": "stdout",
     "output_type": "stream",
     "text": [
      "{'eval_loss': 4.842909812927246, 'eval_runtime': 59.3237, 'eval_samples_per_second': 3.54, 'eval_steps_per_second': 0.455, 'epoch': 15.0}\n",
      "{'loss': 3.1721, 'grad_norm': 0.4582008719444275, 'learning_rate': 0.00168, 'epoch': 16.0}\n"
     ]
    },
    {
     "data": {
      "application/vnd.jupyter.widget-view+json": {
       "model_id": "75572078a54d43499bdd93ab2c833279",
       "version_major": 2,
       "version_minor": 0
      },
      "text/plain": [
       "  0%|          | 0/27 [00:00<?, ?it/s]"
      ]
     },
     "metadata": {},
     "output_type": "display_data"
    },
    {
     "name": "stdout",
     "output_type": "stream",
     "text": [
      "{'eval_loss': 4.923586368560791, 'eval_runtime': 64.3821, 'eval_samples_per_second': 3.262, 'eval_steps_per_second': 0.419, 'epoch': 16.0}\n",
      "{'loss': 3.1168, 'grad_norm': 0.411830335855484, 'learning_rate': 0.00166, 'epoch': 17.0}\n"
     ]
    },
    {
     "data": {
      "application/vnd.jupyter.widget-view+json": {
       "model_id": "01eb55074ced470dac2a87ba59024c33",
       "version_major": 2,
       "version_minor": 0
      },
      "text/plain": [
       "  0%|          | 0/27 [00:00<?, ?it/s]"
      ]
     },
     "metadata": {},
     "output_type": "display_data"
    },
    {
     "name": "stdout",
     "output_type": "stream",
     "text": [
      "{'eval_loss': 4.909565448760986, 'eval_runtime': 72.4253, 'eval_samples_per_second': 2.9, 'eval_steps_per_second': 0.373, 'epoch': 17.0}\n",
      "{'loss': 3.0482, 'grad_norm': 0.36471500992774963, 'learning_rate': 0.00164, 'epoch': 18.0}\n"
     ]
    },
    {
     "data": {
      "application/vnd.jupyter.widget-view+json": {
       "model_id": "3b8db6278c7f4668be79b849da8a1ca2",
       "version_major": 2,
       "version_minor": 0
      },
      "text/plain": [
       "  0%|          | 0/27 [00:00<?, ?it/s]"
      ]
     },
     "metadata": {},
     "output_type": "display_data"
    },
    {
     "name": "stdout",
     "output_type": "stream",
     "text": [
      "{'eval_loss': 4.934050559997559, 'eval_runtime': 66.172, 'eval_samples_per_second': 3.174, 'eval_steps_per_second': 0.408, 'epoch': 18.0}\n",
      "{'loss': 2.9746, 'grad_norm': 0.3295668959617615, 'learning_rate': 0.0016200000000000001, 'epoch': 19.0}\n"
     ]
    },
    {
     "data": {
      "application/vnd.jupyter.widget-view+json": {
       "model_id": "aa22a0f53da74514852de1c916686209",
       "version_major": 2,
       "version_minor": 0
      },
      "text/plain": [
       "  0%|          | 0/27 [00:00<?, ?it/s]"
      ]
     },
     "metadata": {},
     "output_type": "display_data"
    },
    {
     "name": "stdout",
     "output_type": "stream",
     "text": [
      "{'eval_loss': 4.928074359893799, 'eval_runtime': 36.5464, 'eval_samples_per_second': 5.746, 'eval_steps_per_second': 0.739, 'epoch': 19.0}\n",
      "Epoch 20.0\n",
      "Perplexity = 138.1133\n",
      "{'loss': 2.8831, 'grad_norm': 0.34055638313293457, 'learning_rate': 0.0016, 'epoch': 20.0}\n"
     ]
    },
    {
     "data": {
      "application/vnd.jupyter.widget-view+json": {
       "model_id": "824dfd0bc2e64fa492e37184fc44f15a",
       "version_major": 2,
       "version_minor": 0
      },
      "text/plain": [
       "  0%|          | 0/27 [00:00<?, ?it/s]"
      ]
     },
     "metadata": {},
     "output_type": "display_data"
    },
    {
     "name": "stdout",
     "output_type": "stream",
     "text": [
      "{'eval_loss': 4.919163703918457, 'eval_runtime': 65.0629, 'eval_samples_per_second': 3.228, 'eval_steps_per_second': 0.415, 'epoch': 20.0}\n",
      "{'loss': 2.7942, 'grad_norm': 2.326063632965088, 'learning_rate': 0.00158, 'epoch': 21.0}\n"
     ]
    },
    {
     "data": {
      "application/vnd.jupyter.widget-view+json": {
       "model_id": "c9eb5badb21d409d9d3acc8b49a8dc52",
       "version_major": 2,
       "version_minor": 0
      },
      "text/plain": [
       "  0%|          | 0/27 [00:00<?, ?it/s]"
      ]
     },
     "metadata": {},
     "output_type": "display_data"
    },
    {
     "name": "stdout",
     "output_type": "stream",
     "text": [
      "{'eval_loss': 4.925785541534424, 'eval_runtime': 55.9667, 'eval_samples_per_second': 3.752, 'eval_steps_per_second': 0.482, 'epoch': 21.0}\n",
      "{'loss': 2.7186, 'grad_norm': 0.4043227434158325, 'learning_rate': 0.0015600000000000002, 'epoch': 22.0}\n"
     ]
    },
    {
     "data": {
      "application/vnd.jupyter.widget-view+json": {
       "model_id": "598b9aaea6944468a3a145437ba2aad4",
       "version_major": 2,
       "version_minor": 0
      },
      "text/plain": [
       "  0%|          | 0/27 [00:00<?, ?it/s]"
      ]
     },
     "metadata": {},
     "output_type": "display_data"
    },
    {
     "name": "stdout",
     "output_type": "stream",
     "text": [
      "{'eval_loss': 4.951541423797607, 'eval_runtime': 58.7504, 'eval_samples_per_second': 3.574, 'eval_steps_per_second': 0.46, 'epoch': 22.0}\n",
      "{'loss': 2.6065, 'grad_norm': 1.0006740093231201, 'learning_rate': 0.0015400000000000001, 'epoch': 23.0}\n"
     ]
    },
    {
     "data": {
      "application/vnd.jupyter.widget-view+json": {
       "model_id": "f5253cfe6934446ca9b0adfe363cf94d",
       "version_major": 2,
       "version_minor": 0
      },
      "text/plain": [
       "  0%|          | 0/27 [00:00<?, ?it/s]"
      ]
     },
     "metadata": {},
     "output_type": "display_data"
    },
    {
     "name": "stdout",
     "output_type": "stream",
     "text": [
      "{'eval_loss': 4.939196586608887, 'eval_runtime': 146.0581, 'eval_samples_per_second': 1.438, 'eval_steps_per_second': 0.185, 'epoch': 23.0}\n",
      "{'loss': 2.546, 'grad_norm': 0.6557777523994446, 'learning_rate': 0.00152, 'epoch': 24.0}\n"
     ]
    },
    {
     "data": {
      "application/vnd.jupyter.widget-view+json": {
       "model_id": "af867b6e7c844a8ca59138f087b48885",
       "version_major": 2,
       "version_minor": 0
      },
      "text/plain": [
       "  0%|          | 0/27 [00:00<?, ?it/s]"
      ]
     },
     "metadata": {},
     "output_type": "display_data"
    },
    {
     "name": "stdout",
     "output_type": "stream",
     "text": [
      "{'eval_loss': 4.991822242736816, 'eval_runtime': 161.8077, 'eval_samples_per_second': 1.298, 'eval_steps_per_second': 0.167, 'epoch': 24.0}\n",
      "{'loss': 2.4463, 'grad_norm': 0.8707776665687561, 'learning_rate': 0.0015, 'epoch': 25.0}\n"
     ]
    },
    {
     "data": {
      "application/vnd.jupyter.widget-view+json": {
       "model_id": "928a8856a79344d68f1a2cadcb9dd160",
       "version_major": 2,
       "version_minor": 0
      },
      "text/plain": [
       "  0%|          | 0/27 [00:00<?, ?it/s]"
      ]
     },
     "metadata": {},
     "output_type": "display_data"
    },
    {
     "name": "stdout",
     "output_type": "stream",
     "text": [
      "{'eval_loss': 5.037770748138428, 'eval_runtime': 159.8825, 'eval_samples_per_second': 1.313, 'eval_steps_per_second': 0.169, 'epoch': 25.0}\n",
      "{'loss': 2.3249, 'grad_norm': 0.4661215543746948, 'learning_rate': 0.00148, 'epoch': 26.0}\n"
     ]
    },
    {
     "data": {
      "application/vnd.jupyter.widget-view+json": {
       "model_id": "abc7299e23484a8085515dbaa232a611",
       "version_major": 2,
       "version_minor": 0
      },
      "text/plain": [
       "  0%|          | 0/27 [00:00<?, ?it/s]"
      ]
     },
     "metadata": {},
     "output_type": "display_data"
    },
    {
     "name": "stdout",
     "output_type": "stream",
     "text": [
      "{'eval_loss': 4.9997029304504395, 'eval_runtime': 52.3714, 'eval_samples_per_second': 4.01, 'eval_steps_per_second': 0.516, 'epoch': 26.0}\n",
      "{'loss': 2.2049, 'grad_norm': 0.4977121651172638, 'learning_rate': 0.00146, 'epoch': 27.0}\n"
     ]
    },
    {
     "data": {
      "application/vnd.jupyter.widget-view+json": {
       "model_id": "78a79581fbb4440ba506b5ecfcf7db23",
       "version_major": 2,
       "version_minor": 0
      },
      "text/plain": [
       "  0%|          | 0/27 [00:00<?, ?it/s]"
      ]
     },
     "metadata": {},
     "output_type": "display_data"
    },
    {
     "name": "stdout",
     "output_type": "stream",
     "text": [
      "{'eval_loss': 5.0664215087890625, 'eval_runtime': 58.84, 'eval_samples_per_second': 3.569, 'eval_steps_per_second': 0.459, 'epoch': 27.0}\n",
      "{'loss': 2.0833, 'grad_norm': 1.2101680040359497, 'learning_rate': 0.0014399999999999999, 'epoch': 28.0}\n"
     ]
    },
    {
     "data": {
      "application/vnd.jupyter.widget-view+json": {
       "model_id": "65b93290af3c4354b4aece3809bbfb56",
       "version_major": 2,
       "version_minor": 0
      },
      "text/plain": [
       "  0%|          | 0/27 [00:00<?, ?it/s]"
      ]
     },
     "metadata": {},
     "output_type": "display_data"
    },
    {
     "name": "stdout",
     "output_type": "stream",
     "text": [
      "{'eval_loss': 5.072560787200928, 'eval_runtime': 62.0379, 'eval_samples_per_second': 3.385, 'eval_steps_per_second': 0.435, 'epoch': 28.0}\n",
      "{'loss': 1.9741, 'grad_norm': 0.50432950258255, 'learning_rate': 0.00142, 'epoch': 29.0}\n"
     ]
    },
    {
     "data": {
      "application/vnd.jupyter.widget-view+json": {
       "model_id": "f019853e47cd4e59a51b2feb340112a8",
       "version_major": 2,
       "version_minor": 0
      },
      "text/plain": [
       "  0%|          | 0/27 [00:00<?, ?it/s]"
      ]
     },
     "metadata": {},
     "output_type": "display_data"
    },
    {
     "name": "stdout",
     "output_type": "stream",
     "text": [
      "{'eval_loss': 5.067237377166748, 'eval_runtime': 60.5616, 'eval_samples_per_second': 3.468, 'eval_steps_per_second': 0.446, 'epoch': 29.0}\n",
      "Epoch 30.0\n",
      "Perplexity = 158.7352\n",
      "{'loss': 1.847, 'grad_norm': 0.5038468241691589, 'learning_rate': 0.0014, 'epoch': 30.0}\n"
     ]
    },
    {
     "data": {
      "application/vnd.jupyter.widget-view+json": {
       "model_id": "45d4adf190bf41c7988d8f6c5a5b2a53",
       "version_major": 2,
       "version_minor": 0
      },
      "text/plain": [
       "  0%|          | 0/27 [00:00<?, ?it/s]"
      ]
     },
     "metadata": {},
     "output_type": "display_data"
    },
    {
     "name": "stdout",
     "output_type": "stream",
     "text": [
      "{'eval_loss': 5.123378276824951, 'eval_runtime': 64.4242, 'eval_samples_per_second': 3.26, 'eval_steps_per_second': 0.419, 'epoch': 30.0}\n",
      "{'loss': 1.7202, 'grad_norm': 0.48927393555641174, 'learning_rate': 0.00138, 'epoch': 31.0}\n"
     ]
    },
    {
     "data": {
      "application/vnd.jupyter.widget-view+json": {
       "model_id": "d0ef18f81cb54eb3b5665aec16bb7879",
       "version_major": 2,
       "version_minor": 0
      },
      "text/plain": [
       "  0%|          | 0/27 [00:00<?, ?it/s]"
      ]
     },
     "metadata": {},
     "output_type": "display_data"
    },
    {
     "name": "stdout",
     "output_type": "stream",
     "text": [
      "{'eval_loss': 5.142223358154297, 'eval_runtime': 60.7293, 'eval_samples_per_second': 3.458, 'eval_steps_per_second': 0.445, 'epoch': 31.0}\n",
      "{'loss': 1.5944, 'grad_norm': 0.5299854278564453, 'learning_rate': 0.00136, 'epoch': 32.0}\n"
     ]
    },
    {
     "data": {
      "application/vnd.jupyter.widget-view+json": {
       "model_id": "cc8c2ea1d5954d95a618b191015a3b28",
       "version_major": 2,
       "version_minor": 0
      },
      "text/plain": [
       "  0%|          | 0/27 [00:00<?, ?it/s]"
      ]
     },
     "metadata": {},
     "output_type": "display_data"
    },
    {
     "name": "stdout",
     "output_type": "stream",
     "text": [
      "{'eval_loss': 5.186912536621094, 'eval_runtime': 65.126, 'eval_samples_per_second': 3.225, 'eval_steps_per_second': 0.415, 'epoch': 32.0}\n",
      "{'loss': 1.4848, 'grad_norm': 0.8718563914299011, 'learning_rate': 0.00134, 'epoch': 33.0}\n"
     ]
    },
    {
     "data": {
      "application/vnd.jupyter.widget-view+json": {
       "model_id": "29a270bc39084011ac38e5f8ac6d834e",
       "version_major": 2,
       "version_minor": 0
      },
      "text/plain": [
       "  0%|          | 0/27 [00:00<?, ?it/s]"
      ]
     },
     "metadata": {},
     "output_type": "display_data"
    },
    {
     "name": "stdout",
     "output_type": "stream",
     "text": [
      "{'eval_loss': 5.246255397796631, 'eval_runtime': 60.583, 'eval_samples_per_second': 3.466, 'eval_steps_per_second': 0.446, 'epoch': 33.0}\n",
      "{'loss': 1.3981, 'grad_norm': 0.6798862218856812, 'learning_rate': 0.00132, 'epoch': 34.0}\n"
     ]
    },
    {
     "data": {
      "application/vnd.jupyter.widget-view+json": {
       "model_id": "454c6799ec904a19816ff9f78b9d14e4",
       "version_major": 2,
       "version_minor": 0
      },
      "text/plain": [
       "  0%|          | 0/27 [00:00<?, ?it/s]"
      ]
     },
     "metadata": {},
     "output_type": "display_data"
    },
    {
     "name": "stdout",
     "output_type": "stream",
     "text": [
      "{'eval_loss': 5.223137378692627, 'eval_runtime': 65.4138, 'eval_samples_per_second': 3.21, 'eval_steps_per_second': 0.413, 'epoch': 34.0}\n",
      "{'loss': 1.2692, 'grad_norm': 0.5268112421035767, 'learning_rate': 0.0013000000000000002, 'epoch': 35.0}\n"
     ]
    },
    {
     "data": {
      "application/vnd.jupyter.widget-view+json": {
       "model_id": "96bbd87aa19f48d89f5bddf11d352a11",
       "version_major": 2,
       "version_minor": 0
      },
      "text/plain": [
       "  0%|          | 0/27 [00:00<?, ?it/s]"
      ]
     },
     "metadata": {},
     "output_type": "display_data"
    },
    {
     "name": "stdout",
     "output_type": "stream",
     "text": [
      "{'eval_loss': 5.28732442855835, 'eval_runtime': 64.9717, 'eval_samples_per_second': 3.232, 'eval_steps_per_second': 0.416, 'epoch': 35.0}\n",
      "{'loss': 1.158, 'grad_norm': 0.682898223400116, 'learning_rate': 0.00128, 'epoch': 36.0}\n"
     ]
    },
    {
     "data": {
      "application/vnd.jupyter.widget-view+json": {
       "model_id": "ee98929fc27a4f4293356baaf30b7946",
       "version_major": 2,
       "version_minor": 0
      },
      "text/plain": [
       "  0%|          | 0/27 [00:00<?, ?it/s]"
      ]
     },
     "metadata": {},
     "output_type": "display_data"
    },
    {
     "name": "stdout",
     "output_type": "stream",
     "text": [
      "{'eval_loss': 5.247048854827881, 'eval_runtime': 35.37, 'eval_samples_per_second': 5.937, 'eval_steps_per_second': 0.763, 'epoch': 36.0}\n",
      "{'loss': 1.0436, 'grad_norm': 0.7518463730812073, 'learning_rate': 0.00126, 'epoch': 37.0}\n"
     ]
    },
    {
     "data": {
      "application/vnd.jupyter.widget-view+json": {
       "model_id": "08a82c6e608344f7b041a019d63ed641",
       "version_major": 2,
       "version_minor": 0
      },
      "text/plain": [
       "  0%|          | 0/27 [00:00<?, ?it/s]"
      ]
     },
     "metadata": {},
     "output_type": "display_data"
    },
    {
     "name": "stdout",
     "output_type": "stream",
     "text": [
      "{'eval_loss': 5.378556251525879, 'eval_runtime': 35.1584, 'eval_samples_per_second': 5.973, 'eval_steps_per_second': 0.768, 'epoch': 37.0}\n",
      "{'loss': 0.9438, 'grad_norm': 0.6754593849182129, 'learning_rate': 0.00124, 'epoch': 38.0}\n"
     ]
    },
    {
     "data": {
      "application/vnd.jupyter.widget-view+json": {
       "model_id": "c5630868c7bd4c10a690297437936deb",
       "version_major": 2,
       "version_minor": 0
      },
      "text/plain": [
       "  0%|          | 0/27 [00:00<?, ?it/s]"
      ]
     },
     "metadata": {},
     "output_type": "display_data"
    },
    {
     "name": "stdout",
     "output_type": "stream",
     "text": [
      "{'eval_loss': 5.35942268371582, 'eval_runtime': 35.6003, 'eval_samples_per_second': 5.899, 'eval_steps_per_second': 0.758, 'epoch': 38.0}\n",
      "{'loss': 0.856, 'grad_norm': 0.6998625993728638, 'learning_rate': 0.00122, 'epoch': 39.0}\n"
     ]
    },
    {
     "data": {
      "application/vnd.jupyter.widget-view+json": {
       "model_id": "645672026542432687fc01eccc5054b1",
       "version_major": 2,
       "version_minor": 0
      },
      "text/plain": [
       "  0%|          | 0/27 [00:00<?, ?it/s]"
      ]
     },
     "metadata": {},
     "output_type": "display_data"
    },
    {
     "name": "stdout",
     "output_type": "stream",
     "text": [
      "{'eval_loss': 5.463707447052002, 'eval_runtime': 34.8367, 'eval_samples_per_second': 6.028, 'eval_steps_per_second': 0.775, 'epoch': 39.0}\n",
      "Epoch 40.0\n",
      "Perplexity = 235.9707\n",
      "{'loss': 0.7674, 'grad_norm': 0.7664692401885986, 'learning_rate': 0.0012, 'epoch': 40.0}\n"
     ]
    },
    {
     "data": {
      "application/vnd.jupyter.widget-view+json": {
       "model_id": "c10c0893bc7945f4abd65310e526e131",
       "version_major": 2,
       "version_minor": 0
      },
      "text/plain": [
       "  0%|          | 0/27 [00:00<?, ?it/s]"
      ]
     },
     "metadata": {},
     "output_type": "display_data"
    },
    {
     "name": "stdout",
     "output_type": "stream",
     "text": [
      "{'eval_loss': 5.458903789520264, 'eval_runtime': 34.9019, 'eval_samples_per_second': 6.017, 'eval_steps_per_second': 0.774, 'epoch': 40.0}\n",
      "{'loss': 0.6858, 'grad_norm': 0.7484133839607239, 'learning_rate': 0.00118, 'epoch': 41.0}\n"
     ]
    },
    {
     "data": {
      "application/vnd.jupyter.widget-view+json": {
       "model_id": "446da75628364cc2aa8ae7b41af02e29",
       "version_major": 2,
       "version_minor": 0
      },
      "text/plain": [
       "  0%|          | 0/27 [00:00<?, ?it/s]"
      ]
     },
     "metadata": {},
     "output_type": "display_data"
    },
    {
     "name": "stdout",
     "output_type": "stream",
     "text": [
      "{'eval_loss': 5.474850654602051, 'eval_runtime': 35.183, 'eval_samples_per_second': 5.969, 'eval_steps_per_second': 0.767, 'epoch': 41.0}\n",
      "{'loss': 0.6037, 'grad_norm': 0.7357663512229919, 'learning_rate': 0.00116, 'epoch': 42.0}\n"
     ]
    },
    {
     "data": {
      "application/vnd.jupyter.widget-view+json": {
       "model_id": "f9ba2c20640e45a1a692926c66dd3261",
       "version_major": 2,
       "version_minor": 0
      },
      "text/plain": [
       "  0%|          | 0/27 [00:00<?, ?it/s]"
      ]
     },
     "metadata": {},
     "output_type": "display_data"
    },
    {
     "name": "stdout",
     "output_type": "stream",
     "text": [
      "{'eval_loss': 5.530375957489014, 'eval_runtime': 36.1254, 'eval_samples_per_second': 5.813, 'eval_steps_per_second': 0.747, 'epoch': 42.0}\n",
      "{'loss': 0.5423, 'grad_norm': 0.9653528928756714, 'learning_rate': 0.00114, 'epoch': 43.0}\n"
     ]
    },
    {
     "data": {
      "application/vnd.jupyter.widget-view+json": {
       "model_id": "834391e38f2c450196870ce81390f07a",
       "version_major": 2,
       "version_minor": 0
      },
      "text/plain": [
       "  0%|          | 0/27 [00:00<?, ?it/s]"
      ]
     },
     "metadata": {},
     "output_type": "display_data"
    },
    {
     "name": "stdout",
     "output_type": "stream",
     "text": [
      "{'eval_loss': 5.5090155601501465, 'eval_runtime': 36.9792, 'eval_samples_per_second': 5.679, 'eval_steps_per_second': 0.73, 'epoch': 43.0}\n",
      "{'loss': 0.497, 'grad_norm': 0.612908661365509, 'learning_rate': 0.0011200000000000001, 'epoch': 44.0}\n"
     ]
    },
    {
     "data": {
      "application/vnd.jupyter.widget-view+json": {
       "model_id": "ea3808d4e79f46cb95644429a03f2ec9",
       "version_major": 2,
       "version_minor": 0
      },
      "text/plain": [
       "  0%|          | 0/27 [00:00<?, ?it/s]"
      ]
     },
     "metadata": {},
     "output_type": "display_data"
    },
    {
     "name": "stdout",
     "output_type": "stream",
     "text": [
      "{'eval_loss': 5.572904109954834, 'eval_runtime': 35.1791, 'eval_samples_per_second': 5.969, 'eval_steps_per_second': 0.768, 'epoch': 44.0}\n",
      "{'loss': 0.4377, 'grad_norm': 0.5782804489135742, 'learning_rate': 0.0011, 'epoch': 45.0}\n"
     ]
    },
    {
     "data": {
      "application/vnd.jupyter.widget-view+json": {
       "model_id": "c5903d391b6747ee94f3d87dd8d3145b",
       "version_major": 2,
       "version_minor": 0
      },
      "text/plain": [
       "  0%|          | 0/27 [00:00<?, ?it/s]"
      ]
     },
     "metadata": {},
     "output_type": "display_data"
    },
    {
     "name": "stdout",
     "output_type": "stream",
     "text": [
      "{'eval_loss': 5.601387023925781, 'eval_runtime': 34.896, 'eval_samples_per_second': 6.018, 'eval_steps_per_second': 0.774, 'epoch': 45.0}\n",
      "{'loss': 0.3905, 'grad_norm': 0.571628212928772, 'learning_rate': 0.00108, 'epoch': 46.0}\n"
     ]
    },
    {
     "data": {
      "application/vnd.jupyter.widget-view+json": {
       "model_id": "d1067698536840bea0f255e85a70db5c",
       "version_major": 2,
       "version_minor": 0
      },
      "text/plain": [
       "  0%|          | 0/27 [00:00<?, ?it/s]"
      ]
     },
     "metadata": {},
     "output_type": "display_data"
    },
    {
     "name": "stdout",
     "output_type": "stream",
     "text": [
      "{'eval_loss': 5.680751323699951, 'eval_runtime': 35.0607, 'eval_samples_per_second': 5.99, 'eval_steps_per_second': 0.77, 'epoch': 46.0}\n",
      "{'loss': 0.3414, 'grad_norm': 0.6290593147277832, 'learning_rate': 0.0010600000000000002, 'epoch': 47.0}\n"
     ]
    },
    {
     "data": {
      "application/vnd.jupyter.widget-view+json": {
       "model_id": "ddc9289d98fd48d7a388b8d92b34798f",
       "version_major": 2,
       "version_minor": 0
      },
      "text/plain": [
       "  0%|          | 0/27 [00:00<?, ?it/s]"
      ]
     },
     "metadata": {},
     "output_type": "display_data"
    },
    {
     "name": "stdout",
     "output_type": "stream",
     "text": [
      "{'eval_loss': 5.737216949462891, 'eval_runtime': 36.0097, 'eval_samples_per_second': 5.832, 'eval_steps_per_second': 0.75, 'epoch': 47.0}\n",
      "{'loss': 0.3011, 'grad_norm': 0.6807319521903992, 'learning_rate': 0.0010400000000000001, 'epoch': 48.0}\n"
     ]
    },
    {
     "data": {
      "application/vnd.jupyter.widget-view+json": {
       "model_id": "9d8c647ba56343bbbdc16149788aea28",
       "version_major": 2,
       "version_minor": 0
      },
      "text/plain": [
       "  0%|          | 0/27 [00:00<?, ?it/s]"
      ]
     },
     "metadata": {},
     "output_type": "display_data"
    },
    {
     "name": "stdout",
     "output_type": "stream",
     "text": [
      "{'eval_loss': 5.684469223022461, 'eval_runtime': 35.7211, 'eval_samples_per_second': 5.879, 'eval_steps_per_second': 0.756, 'epoch': 48.0}\n",
      "{'loss': 0.2694, 'grad_norm': 0.4352017939090729, 'learning_rate': 0.00102, 'epoch': 49.0}\n"
     ]
    },
    {
     "data": {
      "application/vnd.jupyter.widget-view+json": {
       "model_id": "b0c226ceb3db479b99ecca74ec32674a",
       "version_major": 2,
       "version_minor": 0
      },
      "text/plain": [
       "  0%|          | 0/27 [00:00<?, ?it/s]"
      ]
     },
     "metadata": {},
     "output_type": "display_data"
    },
    {
     "name": "stdout",
     "output_type": "stream",
     "text": [
      "{'eval_loss': 5.724931240081787, 'eval_runtime': 36.0184, 'eval_samples_per_second': 5.83, 'eval_steps_per_second': 0.75, 'epoch': 49.0}\n",
      "Epoch 50.0\n",
      "Perplexity = 306.4122\n",
      "{'loss': 0.2469, 'grad_norm': 0.45147380232810974, 'learning_rate': 0.001, 'epoch': 50.0}\n"
     ]
    },
    {
     "data": {
      "application/vnd.jupyter.widget-view+json": {
       "model_id": "4cb816a84e5e4948b693190188bfa5aa",
       "version_major": 2,
       "version_minor": 0
      },
      "text/plain": [
       "  0%|          | 0/27 [00:00<?, ?it/s]"
      ]
     },
     "metadata": {},
     "output_type": "display_data"
    },
    {
     "name": "stdout",
     "output_type": "stream",
     "text": [
      "{'eval_loss': 5.81417179107666, 'eval_runtime': 35.7934, 'eval_samples_per_second': 5.867, 'eval_steps_per_second': 0.754, 'epoch': 50.0}\n",
      "{'loss': 0.2316, 'grad_norm': 0.39783775806427, 'learning_rate': 0.00098, 'epoch': 51.0}\n"
     ]
    },
    {
     "data": {
      "application/vnd.jupyter.widget-view+json": {
       "model_id": "40ba45bb51f84be3bec8c3a4729b5b4c",
       "version_major": 2,
       "version_minor": 0
      },
      "text/plain": [
       "  0%|          | 0/27 [00:00<?, ?it/s]"
      ]
     },
     "metadata": {},
     "output_type": "display_data"
    },
    {
     "name": "stdout",
     "output_type": "stream",
     "text": [
      "{'eval_loss': 5.801687240600586, 'eval_runtime': 36.2298, 'eval_samples_per_second': 5.796, 'eval_steps_per_second': 0.745, 'epoch': 51.0}\n",
      "{'loss': 0.2169, 'grad_norm': 0.43664655089378357, 'learning_rate': 0.00096, 'epoch': 52.0}\n"
     ]
    },
    {
     "data": {
      "application/vnd.jupyter.widget-view+json": {
       "model_id": "16c4615de5374eb8b2fd3cda79ba0387",
       "version_major": 2,
       "version_minor": 0
      },
      "text/plain": [
       "  0%|          | 0/27 [00:00<?, ?it/s]"
      ]
     },
     "metadata": {},
     "output_type": "display_data"
    },
    {
     "name": "stdout",
     "output_type": "stream",
     "text": [
      "{'eval_loss': 5.922039031982422, 'eval_runtime': 34.8941, 'eval_samples_per_second': 6.018, 'eval_steps_per_second': 0.774, 'epoch': 52.0}\n",
      "{'loss': 0.2025, 'grad_norm': 0.2688675820827484, 'learning_rate': 0.00094, 'epoch': 53.0}\n"
     ]
    },
    {
     "data": {
      "application/vnd.jupyter.widget-view+json": {
       "model_id": "9966717ef3ec4b8a8c13ca3b3311d89d",
       "version_major": 2,
       "version_minor": 0
      },
      "text/plain": [
       "  0%|          | 0/27 [00:00<?, ?it/s]"
      ]
     },
     "metadata": {},
     "output_type": "display_data"
    },
    {
     "name": "stdout",
     "output_type": "stream",
     "text": [
      "{'eval_loss': 5.842624664306641, 'eval_runtime': 34.9562, 'eval_samples_per_second': 6.008, 'eval_steps_per_second': 0.772, 'epoch': 53.0}\n",
      "{'loss': 0.1882, 'grad_norm': 0.1963178813457489, 'learning_rate': 0.00092, 'epoch': 54.0}\n"
     ]
    },
    {
     "data": {
      "application/vnd.jupyter.widget-view+json": {
       "model_id": "322802e9af344e098814fc1b13d1a46b",
       "version_major": 2,
       "version_minor": 0
      },
      "text/plain": [
       "  0%|          | 0/27 [00:00<?, ?it/s]"
      ]
     },
     "metadata": {},
     "output_type": "display_data"
    },
    {
     "name": "stdout",
     "output_type": "stream",
     "text": [
      "{'eval_loss': 5.89838171005249, 'eval_runtime': 34.9387, 'eval_samples_per_second': 6.011, 'eval_steps_per_second': 0.773, 'epoch': 54.0}\n",
      "{'loss': 0.1767, 'grad_norm': 0.14648126065731049, 'learning_rate': 0.0009000000000000001, 'epoch': 55.0}\n"
     ]
    },
    {
     "data": {
      "application/vnd.jupyter.widget-view+json": {
       "model_id": "62b772c921aa4c169c603751ba40b2aa",
       "version_major": 2,
       "version_minor": 0
      },
      "text/plain": [
       "  0%|          | 0/27 [00:00<?, ?it/s]"
      ]
     },
     "metadata": {},
     "output_type": "display_data"
    },
    {
     "name": "stdout",
     "output_type": "stream",
     "text": [
      "{'eval_loss': 5.9089179039001465, 'eval_runtime': 34.9497, 'eval_samples_per_second': 6.009, 'eval_steps_per_second': 0.773, 'epoch': 55.0}\n",
      "{'loss': 0.1707, 'grad_norm': 0.1374797821044922, 'learning_rate': 0.00088, 'epoch': 56.0}\n"
     ]
    },
    {
     "data": {
      "application/vnd.jupyter.widget-view+json": {
       "model_id": "5ec7173e61784e08a3239d45d8f7ee86",
       "version_major": 2,
       "version_minor": 0
      },
      "text/plain": [
       "  0%|          | 0/27 [00:00<?, ?it/s]"
      ]
     },
     "metadata": {},
     "output_type": "display_data"
    },
    {
     "name": "stdout",
     "output_type": "stream",
     "text": [
      "{'eval_loss': 5.998571395874023, 'eval_runtime': 35.6732, 'eval_samples_per_second': 5.887, 'eval_steps_per_second': 0.757, 'epoch': 56.0}\n",
      "{'loss': 0.1645, 'grad_norm': 0.09939230233430862, 'learning_rate': 0.00086, 'epoch': 57.0}\n"
     ]
    },
    {
     "data": {
      "application/vnd.jupyter.widget-view+json": {
       "model_id": "12eec631df1949f0959c9a44fa636407",
       "version_major": 2,
       "version_minor": 0
      },
      "text/plain": [
       "  0%|          | 0/27 [00:00<?, ?it/s]"
      ]
     },
     "metadata": {},
     "output_type": "display_data"
    },
    {
     "name": "stdout",
     "output_type": "stream",
     "text": [
      "{'eval_loss': 5.998988628387451, 'eval_runtime': 35.0815, 'eval_samples_per_second': 5.986, 'eval_steps_per_second': 0.77, 'epoch': 57.0}\n",
      "{'loss': 0.1597, 'grad_norm': 0.0886126309633255, 'learning_rate': 0.00084, 'epoch': 58.0}\n"
     ]
    },
    {
     "data": {
      "application/vnd.jupyter.widget-view+json": {
       "model_id": "58da0526c1e54b4e8b9d231d1b2cff00",
       "version_major": 2,
       "version_minor": 0
      },
      "text/plain": [
       "  0%|          | 0/27 [00:00<?, ?it/s]"
      ]
     },
     "metadata": {},
     "output_type": "display_data"
    },
    {
     "name": "stdout",
     "output_type": "stream",
     "text": [
      "{'eval_loss': 6.020808696746826, 'eval_runtime': 34.7874, 'eval_samples_per_second': 6.037, 'eval_steps_per_second': 0.776, 'epoch': 58.0}\n",
      "{'loss': 0.156, 'grad_norm': 0.06901884824037552, 'learning_rate': 0.00082, 'epoch': 59.0}\n"
     ]
    },
    {
     "data": {
      "application/vnd.jupyter.widget-view+json": {
       "model_id": "7a19714ea86e4bbf8857f2af7c239655",
       "version_major": 2,
       "version_minor": 0
      },
      "text/plain": [
       "  0%|          | 0/27 [00:00<?, ?it/s]"
      ]
     },
     "metadata": {},
     "output_type": "display_data"
    },
    {
     "name": "stdout",
     "output_type": "stream",
     "text": [
      "{'eval_loss': 6.048976898193359, 'eval_runtime': 34.7862, 'eval_samples_per_second': 6.037, 'eval_steps_per_second': 0.776, 'epoch': 59.0}\n",
      "Epoch 60.0\n",
      "Perplexity = 423.6793\n",
      "{'loss': 0.154, 'grad_norm': 0.07904954999685287, 'learning_rate': 0.0008, 'epoch': 60.0}\n"
     ]
    },
    {
     "data": {
      "application/vnd.jupyter.widget-view+json": {
       "model_id": "62ea8e7388c94db0bad08124b5d9a848",
       "version_major": 2,
       "version_minor": 0
      },
      "text/plain": [
       "  0%|          | 0/27 [00:00<?, ?it/s]"
      ]
     },
     "metadata": {},
     "output_type": "display_data"
    },
    {
     "name": "stdout",
     "output_type": "stream",
     "text": [
      "{'eval_loss': 6.053466796875, 'eval_runtime': 54.6636, 'eval_samples_per_second': 3.842, 'eval_steps_per_second': 0.494, 'epoch': 60.0}\n",
      "{'loss': 0.1521, 'grad_norm': 0.08204028010368347, 'learning_rate': 0.0007800000000000001, 'epoch': 61.0}\n"
     ]
    },
    {
     "data": {
      "application/vnd.jupyter.widget-view+json": {
       "model_id": "cbeef379b61a4c8e9fed3ec01bcff448",
       "version_major": 2,
       "version_minor": 0
      },
      "text/plain": [
       "  0%|          | 0/27 [00:00<?, ?it/s]"
      ]
     },
     "metadata": {},
     "output_type": "display_data"
    },
    {
     "name": "stdout",
     "output_type": "stream",
     "text": [
      "{'eval_loss': 6.08182430267334, 'eval_runtime': 36.6952, 'eval_samples_per_second': 5.723, 'eval_steps_per_second': 0.736, 'epoch': 61.0}\n",
      "{'loss': 0.1508, 'grad_norm': 0.08373957127332687, 'learning_rate': 0.00076, 'epoch': 62.0}\n"
     ]
    },
    {
     "data": {
      "application/vnd.jupyter.widget-view+json": {
       "model_id": "a58fe31bdb2247488370b6e99e7dbc49",
       "version_major": 2,
       "version_minor": 0
      },
      "text/plain": [
       "  0%|          | 0/27 [00:00<?, ?it/s]"
      ]
     },
     "metadata": {},
     "output_type": "display_data"
    },
    {
     "name": "stdout",
     "output_type": "stream",
     "text": [
      "{'eval_loss': 6.086550235748291, 'eval_runtime': 40.7692, 'eval_samples_per_second': 5.151, 'eval_steps_per_second': 0.662, 'epoch': 62.0}\n",
      "{'loss': 0.1495, 'grad_norm': 0.06548644602298737, 'learning_rate': 0.00074, 'epoch': 63.0}\n"
     ]
    },
    {
     "data": {
      "application/vnd.jupyter.widget-view+json": {
       "model_id": "e6c3bfdbc32347f6a1a9d09102ff2939",
       "version_major": 2,
       "version_minor": 0
      },
      "text/plain": [
       "  0%|          | 0/27 [00:00<?, ?it/s]"
      ]
     },
     "metadata": {},
     "output_type": "display_data"
    },
    {
     "name": "stdout",
     "output_type": "stream",
     "text": [
      "{'eval_loss': 6.092987537384033, 'eval_runtime': 59.7437, 'eval_samples_per_second': 3.515, 'eval_steps_per_second': 0.452, 'epoch': 63.0}\n",
      "{'loss': 0.1489, 'grad_norm': 0.0749504417181015, 'learning_rate': 0.0007199999999999999, 'epoch': 64.0}\n"
     ]
    },
    {
     "data": {
      "application/vnd.jupyter.widget-view+json": {
       "model_id": "9e6c6e71a0b940289be68458af457836",
       "version_major": 2,
       "version_minor": 0
      },
      "text/plain": [
       "  0%|          | 0/27 [00:00<?, ?it/s]"
      ]
     },
     "metadata": {},
     "output_type": "display_data"
    },
    {
     "name": "stdout",
     "output_type": "stream",
     "text": [
      "{'eval_loss': 6.108479976654053, 'eval_runtime': 62.1087, 'eval_samples_per_second': 3.381, 'eval_steps_per_second': 0.435, 'epoch': 64.0}\n",
      "{'loss': 0.1491, 'grad_norm': 0.06666584312915802, 'learning_rate': 0.0007, 'epoch': 65.0}\n"
     ]
    },
    {
     "data": {
      "application/vnd.jupyter.widget-view+json": {
       "model_id": "b85b9006d5764e00b5e5e87c753cdf14",
       "version_major": 2,
       "version_minor": 0
      },
      "text/plain": [
       "  0%|          | 0/27 [00:00<?, ?it/s]"
      ]
     },
     "metadata": {},
     "output_type": "display_data"
    },
    {
     "name": "stdout",
     "output_type": "stream",
     "text": [
      "{'eval_loss': 6.119835376739502, 'eval_runtime': 64.9946, 'eval_samples_per_second': 3.231, 'eval_steps_per_second': 0.415, 'epoch': 65.0}\n",
      "{'loss': 0.1479, 'grad_norm': 0.090924933552742, 'learning_rate': 0.00068, 'epoch': 66.0}\n"
     ]
    },
    {
     "data": {
      "application/vnd.jupyter.widget-view+json": {
       "model_id": "c29311750c024d66a3fa1866e8740fa6",
       "version_major": 2,
       "version_minor": 0
      },
      "text/plain": [
       "  0%|          | 0/27 [00:00<?, ?it/s]"
      ]
     },
     "metadata": {},
     "output_type": "display_data"
    },
    {
     "name": "stdout",
     "output_type": "stream",
     "text": [
      "{'eval_loss': 6.116401195526123, 'eval_runtime': 62.4195, 'eval_samples_per_second': 3.364, 'eval_steps_per_second': 0.433, 'epoch': 66.0}\n",
      "{'loss': 0.147, 'grad_norm': 0.0627363845705986, 'learning_rate': 0.00066, 'epoch': 67.0}\n"
     ]
    },
    {
     "data": {
      "application/vnd.jupyter.widget-view+json": {
       "model_id": "53a55bad285746c2bdf4e68c7e31fbdd",
       "version_major": 2,
       "version_minor": 0
      },
      "text/plain": [
       "  0%|          | 0/27 [00:00<?, ?it/s]"
      ]
     },
     "metadata": {},
     "output_type": "display_data"
    },
    {
     "name": "stdout",
     "output_type": "stream",
     "text": [
      "{'eval_loss': 6.120159149169922, 'eval_runtime': 65.7861, 'eval_samples_per_second': 3.192, 'eval_steps_per_second': 0.41, 'epoch': 67.0}\n",
      "{'loss': 0.1464, 'grad_norm': 0.06087152659893036, 'learning_rate': 0.00064, 'epoch': 68.0}\n"
     ]
    },
    {
     "data": {
      "application/vnd.jupyter.widget-view+json": {
       "model_id": "1b54a16f2933438a97d91f1cc83c7796",
       "version_major": 2,
       "version_minor": 0
      },
      "text/plain": [
       "  0%|          | 0/27 [00:00<?, ?it/s]"
      ]
     },
     "metadata": {},
     "output_type": "display_data"
    },
    {
     "name": "stdout",
     "output_type": "stream",
     "text": [
      "{'eval_loss': 6.132468223571777, 'eval_runtime': 62.7154, 'eval_samples_per_second': 3.348, 'eval_steps_per_second': 0.431, 'epoch': 68.0}\n",
      "{'loss': 0.1458, 'grad_norm': 0.06984956562519073, 'learning_rate': 0.00062, 'epoch': 69.0}\n"
     ]
    },
    {
     "data": {
      "application/vnd.jupyter.widget-view+json": {
       "model_id": "031b7dbe16fb4c538297802931c79b93",
       "version_major": 2,
       "version_minor": 0
      },
      "text/plain": [
       "  0%|          | 0/27 [00:00<?, ?it/s]"
      ]
     },
     "metadata": {},
     "output_type": "display_data"
    },
    {
     "name": "stdout",
     "output_type": "stream",
     "text": [
      "{'eval_loss': 6.151335716247559, 'eval_runtime': 63.424, 'eval_samples_per_second': 3.311, 'eval_steps_per_second': 0.426, 'epoch': 69.0}\n",
      "Epoch 70.0\n",
      "Perplexity = 469.3439\n",
      "{'loss': 0.1452, 'grad_norm': 0.050487469881772995, 'learning_rate': 0.0006, 'epoch': 70.0}\n"
     ]
    },
    {
     "data": {
      "application/vnd.jupyter.widget-view+json": {
       "model_id": "15f65831db76418e98b952a7fb128fd9",
       "version_major": 2,
       "version_minor": 0
      },
      "text/plain": [
       "  0%|          | 0/27 [00:00<?, ?it/s]"
      ]
     },
     "metadata": {},
     "output_type": "display_data"
    },
    {
     "name": "stdout",
     "output_type": "stream",
     "text": [
      "{'eval_loss': 6.143265247344971, 'eval_runtime': 63.8515, 'eval_samples_per_second': 3.289, 'eval_steps_per_second': 0.423, 'epoch': 70.0}\n",
      "{'loss': 0.1448, 'grad_norm': 0.055137746036052704, 'learning_rate': 0.00058, 'epoch': 71.0}\n"
     ]
    },
    {
     "data": {
      "application/vnd.jupyter.widget-view+json": {
       "model_id": "24b55ffe9cf447bc86b14d51faca4950",
       "version_major": 2,
       "version_minor": 0
      },
      "text/plain": [
       "  0%|          | 0/27 [00:00<?, ?it/s]"
      ]
     },
     "metadata": {},
     "output_type": "display_data"
    },
    {
     "name": "stdout",
     "output_type": "stream",
     "text": [
      "{'eval_loss': 6.14772891998291, 'eval_runtime': 62.1597, 'eval_samples_per_second': 3.378, 'eval_steps_per_second': 0.434, 'epoch': 71.0}\n",
      "{'loss': 0.1445, 'grad_norm': 0.058908458799123764, 'learning_rate': 0.0005600000000000001, 'epoch': 72.0}\n"
     ]
    },
    {
     "data": {
      "application/vnd.jupyter.widget-view+json": {
       "model_id": "a5b1255a524f4a2fabab5732186dded4",
       "version_major": 2,
       "version_minor": 0
      },
      "text/plain": [
       "  0%|          | 0/27 [00:00<?, ?it/s]"
      ]
     },
     "metadata": {},
     "output_type": "display_data"
    },
    {
     "name": "stdout",
     "output_type": "stream",
     "text": [
      "{'eval_loss': 6.147255897521973, 'eval_runtime': 63.4117, 'eval_samples_per_second': 3.312, 'eval_steps_per_second': 0.426, 'epoch': 72.0}\n",
      "{'loss': 0.1439, 'grad_norm': 0.06310687214136124, 'learning_rate': 0.00054, 'epoch': 73.0}\n"
     ]
    },
    {
     "data": {
      "application/vnd.jupyter.widget-view+json": {
       "model_id": "a08649870ab74840b58fa6084c391b96",
       "version_major": 2,
       "version_minor": 0
      },
      "text/plain": [
       "  0%|          | 0/27 [00:00<?, ?it/s]"
      ]
     },
     "metadata": {},
     "output_type": "display_data"
    },
    {
     "name": "stdout",
     "output_type": "stream",
     "text": [
      "{'eval_loss': 6.15134859085083, 'eval_runtime': 64.2471, 'eval_samples_per_second': 3.269, 'eval_steps_per_second': 0.42, 'epoch': 73.0}\n",
      "{'loss': 0.1438, 'grad_norm': 0.06702357530593872, 'learning_rate': 0.0005200000000000001, 'epoch': 74.0}\n"
     ]
    },
    {
     "data": {
      "application/vnd.jupyter.widget-view+json": {
       "model_id": "1c18990dc67b41c2bfed6a120e0cd53c",
       "version_major": 2,
       "version_minor": 0
      },
      "text/plain": [
       "  0%|          | 0/27 [00:00<?, ?it/s]"
      ]
     },
     "metadata": {},
     "output_type": "display_data"
    },
    {
     "name": "stdout",
     "output_type": "stream",
     "text": [
      "{'eval_loss': 6.178257465362549, 'eval_runtime': 64.4512, 'eval_samples_per_second': 3.258, 'eval_steps_per_second': 0.419, 'epoch': 74.0}\n",
      "{'loss': 0.1436, 'grad_norm': 0.06692282110452652, 'learning_rate': 0.0005, 'epoch': 75.0}\n"
     ]
    },
    {
     "data": {
      "application/vnd.jupyter.widget-view+json": {
       "model_id": "83a75103c3ca4338ba1782b4e9c2a6df",
       "version_major": 2,
       "version_minor": 0
      },
      "text/plain": [
       "  0%|          | 0/27 [00:00<?, ?it/s]"
      ]
     },
     "metadata": {},
     "output_type": "display_data"
    },
    {
     "name": "stdout",
     "output_type": "stream",
     "text": [
      "{'eval_loss': 6.178020477294922, 'eval_runtime': 45.3412, 'eval_samples_per_second': 4.632, 'eval_steps_per_second': 0.595, 'epoch': 75.0}\n",
      "{'loss': 0.1431, 'grad_norm': 0.05657191947102547, 'learning_rate': 0.00048, 'epoch': 76.0}\n"
     ]
    },
    {
     "data": {
      "application/vnd.jupyter.widget-view+json": {
       "model_id": "3d39d006be3848048f9663c37a6c79ae",
       "version_major": 2,
       "version_minor": 0
      },
      "text/plain": [
       "  0%|          | 0/27 [00:00<?, ?it/s]"
      ]
     },
     "metadata": {},
     "output_type": "display_data"
    },
    {
     "name": "stdout",
     "output_type": "stream",
     "text": [
      "{'eval_loss': 6.161510467529297, 'eval_runtime': 41.8402, 'eval_samples_per_second': 5.019, 'eval_steps_per_second': 0.645, 'epoch': 76.0}\n",
      "{'loss': 0.1429, 'grad_norm': 0.06557995826005936, 'learning_rate': 0.00046, 'epoch': 77.0}\n"
     ]
    },
    {
     "data": {
      "application/vnd.jupyter.widget-view+json": {
       "model_id": "bb5bd6b514fc47a7ba198a040a9630a1",
       "version_major": 2,
       "version_minor": 0
      },
      "text/plain": [
       "  0%|          | 0/27 [00:00<?, ?it/s]"
      ]
     },
     "metadata": {},
     "output_type": "display_data"
    },
    {
     "name": "stdout",
     "output_type": "stream",
     "text": [
      "{'eval_loss': 6.1723480224609375, 'eval_runtime': 59.1692, 'eval_samples_per_second': 3.549, 'eval_steps_per_second': 0.456, 'epoch': 77.0}\n",
      "{'loss': 0.1426, 'grad_norm': 0.057419553399086, 'learning_rate': 0.00044, 'epoch': 78.0}\n"
     ]
    },
    {
     "data": {
      "application/vnd.jupyter.widget-view+json": {
       "model_id": "0f3d43e02b054a37bf5a7d600c2924b5",
       "version_major": 2,
       "version_minor": 0
      },
      "text/plain": [
       "  0%|          | 0/27 [00:00<?, ?it/s]"
      ]
     },
     "metadata": {},
     "output_type": "display_data"
    },
    {
     "name": "stdout",
     "output_type": "stream",
     "text": [
      "{'eval_loss': 6.171828269958496, 'eval_runtime': 105.8646, 'eval_samples_per_second': 1.984, 'eval_steps_per_second': 0.255, 'epoch': 78.0}\n",
      "{'loss': 0.1425, 'grad_norm': 0.050767987966537476, 'learning_rate': 0.00042, 'epoch': 79.0}\n"
     ]
    },
    {
     "data": {
      "application/vnd.jupyter.widget-view+json": {
       "model_id": "ff62e07edf064179bbcd337cc8ba2db0",
       "version_major": 2,
       "version_minor": 0
      },
      "text/plain": [
       "  0%|          | 0/27 [00:00<?, ?it/s]"
      ]
     },
     "metadata": {},
     "output_type": "display_data"
    },
    {
     "name": "stdout",
     "output_type": "stream",
     "text": [
      "{'eval_loss': 6.180866718292236, 'eval_runtime': 90.7118, 'eval_samples_per_second': 2.315, 'eval_steps_per_second': 0.298, 'epoch': 79.0}\n",
      "Epoch 80.0\n",
      "Perplexity = 483.4108\n",
      "{'loss': 0.1422, 'grad_norm': 0.06195845082402229, 'learning_rate': 0.0004, 'epoch': 80.0}\n"
     ]
    },
    {
     "data": {
      "application/vnd.jupyter.widget-view+json": {
       "model_id": "6a421ad38d32454bafdd1c9dc4123b2a",
       "version_major": 2,
       "version_minor": 0
      },
      "text/plain": [
       "  0%|          | 0/27 [00:00<?, ?it/s]"
      ]
     },
     "metadata": {},
     "output_type": "display_data"
    },
    {
     "name": "stdout",
     "output_type": "stream",
     "text": [
      "{'eval_loss': 6.181358337402344, 'eval_runtime': 89.5897, 'eval_samples_per_second': 2.344, 'eval_steps_per_second': 0.301, 'epoch': 80.0}\n",
      "{'loss': 0.1422, 'grad_norm': 0.054841767996549606, 'learning_rate': 0.00038, 'epoch': 81.0}\n"
     ]
    },
    {
     "data": {
      "application/vnd.jupyter.widget-view+json": {
       "model_id": "d390d169682d41719bb7156289b80181",
       "version_major": 2,
       "version_minor": 0
      },
      "text/plain": [
       "  0%|          | 0/27 [00:00<?, ?it/s]"
      ]
     },
     "metadata": {},
     "output_type": "display_data"
    },
    {
     "name": "stdout",
     "output_type": "stream",
     "text": [
      "{'eval_loss': 6.179361343383789, 'eval_runtime': 35.5208, 'eval_samples_per_second': 5.912, 'eval_steps_per_second': 0.76, 'epoch': 81.0}\n",
      "{'loss': 0.1416, 'grad_norm': 0.0683060735464096, 'learning_rate': 0.00035999999999999997, 'epoch': 82.0}\n"
     ]
    },
    {
     "data": {
      "application/vnd.jupyter.widget-view+json": {
       "model_id": "e107dba4e6074196a6882b64a24c8f26",
       "version_major": 2,
       "version_minor": 0
      },
      "text/plain": [
       "  0%|          | 0/27 [00:00<?, ?it/s]"
      ]
     },
     "metadata": {},
     "output_type": "display_data"
    },
    {
     "name": "stdout",
     "output_type": "stream",
     "text": [
      "{'eval_loss': 6.187324523925781, 'eval_runtime': 35.0661, 'eval_samples_per_second': 5.989, 'eval_steps_per_second': 0.77, 'epoch': 82.0}\n",
      "{'loss': 0.1418, 'grad_norm': 0.05761469528079033, 'learning_rate': 0.00034, 'epoch': 83.0}\n"
     ]
    },
    {
     "data": {
      "application/vnd.jupyter.widget-view+json": {
       "model_id": "4bc4d847cfa64fe4b2c1726bea5dcb98",
       "version_major": 2,
       "version_minor": 0
      },
      "text/plain": [
       "  0%|          | 0/27 [00:00<?, ?it/s]"
      ]
     },
     "metadata": {},
     "output_type": "display_data"
    },
    {
     "name": "stdout",
     "output_type": "stream",
     "text": [
      "{'eval_loss': 6.189059734344482, 'eval_runtime': 35.7053, 'eval_samples_per_second': 5.881, 'eval_steps_per_second': 0.756, 'epoch': 83.0}\n",
      "{'loss': 0.1418, 'grad_norm': 0.06079474464058876, 'learning_rate': 0.00032, 'epoch': 84.0}\n"
     ]
    },
    {
     "data": {
      "application/vnd.jupyter.widget-view+json": {
       "model_id": "47a215f6f1f244639c64bae7fadae4f7",
       "version_major": 2,
       "version_minor": 0
      },
      "text/plain": [
       "  0%|          | 0/27 [00:00<?, ?it/s]"
      ]
     },
     "metadata": {},
     "output_type": "display_data"
    },
    {
     "name": "stdout",
     "output_type": "stream",
     "text": [
      "{'eval_loss': 6.187809467315674, 'eval_runtime': 35.4345, 'eval_samples_per_second': 5.926, 'eval_steps_per_second': 0.762, 'epoch': 84.0}\n",
      "{'loss': 0.141, 'grad_norm': 0.07209662348031998, 'learning_rate': 0.0003, 'epoch': 85.0}\n"
     ]
    },
    {
     "data": {
      "application/vnd.jupyter.widget-view+json": {
       "model_id": "89331cb932f64524bf2b616cc5af5e3d",
       "version_major": 2,
       "version_minor": 0
      },
      "text/plain": [
       "  0%|          | 0/27 [00:00<?, ?it/s]"
      ]
     },
     "metadata": {},
     "output_type": "display_data"
    },
    {
     "name": "stdout",
     "output_type": "stream",
     "text": [
      "{'eval_loss': 6.194770336151123, 'eval_runtime': 35.7361, 'eval_samples_per_second': 5.876, 'eval_steps_per_second': 0.756, 'epoch': 85.0}\n",
      "{'loss': 0.1413, 'grad_norm': 0.08093111217021942, 'learning_rate': 0.00028000000000000003, 'epoch': 86.0}\n"
     ]
    },
    {
     "data": {
      "application/vnd.jupyter.widget-view+json": {
       "model_id": "464ecd6edb914a7490df5ed8c1f8d319",
       "version_major": 2,
       "version_minor": 0
      },
      "text/plain": [
       "  0%|          | 0/27 [00:00<?, ?it/s]"
      ]
     },
     "metadata": {},
     "output_type": "display_data"
    },
    {
     "name": "stdout",
     "output_type": "stream",
     "text": [
      "{'eval_loss': 6.190364360809326, 'eval_runtime': 35.1879, 'eval_samples_per_second': 5.968, 'eval_steps_per_second': 0.767, 'epoch': 86.0}\n",
      "{'loss': 0.1409, 'grad_norm': 0.05694061145186424, 'learning_rate': 0.00026000000000000003, 'epoch': 87.0}\n"
     ]
    },
    {
     "data": {
      "application/vnd.jupyter.widget-view+json": {
       "model_id": "b973785de83348c084a43aee947022a4",
       "version_major": 2,
       "version_minor": 0
      },
      "text/plain": [
       "  0%|          | 0/27 [00:00<?, ?it/s]"
      ]
     },
     "metadata": {},
     "output_type": "display_data"
    },
    {
     "name": "stdout",
     "output_type": "stream",
     "text": [
      "{'eval_loss': 6.195146083831787, 'eval_runtime': 35.2144, 'eval_samples_per_second': 5.963, 'eval_steps_per_second': 0.767, 'epoch': 87.0}\n",
      "{'loss': 0.1409, 'grad_norm': 0.05375082045793533, 'learning_rate': 0.00024, 'epoch': 88.0}\n"
     ]
    },
    {
     "data": {
      "application/vnd.jupyter.widget-view+json": {
       "model_id": "03135cf564b449668b419f51621106bd",
       "version_major": 2,
       "version_minor": 0
      },
      "text/plain": [
       "  0%|          | 0/27 [00:00<?, ?it/s]"
      ]
     },
     "metadata": {},
     "output_type": "display_data"
    },
    {
     "name": "stdout",
     "output_type": "stream",
     "text": [
      "{'eval_loss': 6.202808856964111, 'eval_runtime': 35.2356, 'eval_samples_per_second': 5.96, 'eval_steps_per_second': 0.766, 'epoch': 88.0}\n",
      "{'loss': 0.1407, 'grad_norm': 0.05568912997841835, 'learning_rate': 0.00022, 'epoch': 89.0}\n"
     ]
    },
    {
     "data": {
      "application/vnd.jupyter.widget-view+json": {
       "model_id": "2a6560ce60854ab58e6455ec13d85623",
       "version_major": 2,
       "version_minor": 0
      },
      "text/plain": [
       "  0%|          | 0/27 [00:00<?, ?it/s]"
      ]
     },
     "metadata": {},
     "output_type": "display_data"
    },
    {
     "name": "stdout",
     "output_type": "stream",
     "text": [
      "{'eval_loss': 6.201825141906738, 'eval_runtime': 35.8203, 'eval_samples_per_second': 5.863, 'eval_steps_per_second': 0.754, 'epoch': 89.0}\n",
      "Epoch 90.0\n",
      "Perplexity = 493.6492\n",
      "{'loss': 0.1403, 'grad_norm': 0.05441686883568764, 'learning_rate': 0.0002, 'epoch': 90.0}\n"
     ]
    },
    {
     "data": {
      "application/vnd.jupyter.widget-view+json": {
       "model_id": "2e30f847abcc4c989eac1abfc8445fe6",
       "version_major": 2,
       "version_minor": 0
      },
      "text/plain": [
       "  0%|          | 0/27 [00:00<?, ?it/s]"
      ]
     },
     "metadata": {},
     "output_type": "display_data"
    },
    {
     "name": "stdout",
     "output_type": "stream",
     "text": [
      "{'eval_loss': 6.201447486877441, 'eval_runtime': 35.4871, 'eval_samples_per_second': 5.918, 'eval_steps_per_second': 0.761, 'epoch': 90.0}\n",
      "{'loss': 0.1406, 'grad_norm': 0.04904496297240257, 'learning_rate': 0.00017999999999999998, 'epoch': 91.0}\n"
     ]
    },
    {
     "data": {
      "application/vnd.jupyter.widget-view+json": {
       "model_id": "bec491c43c424c3082dbde80dbbfef5c",
       "version_major": 2,
       "version_minor": 0
      },
      "text/plain": [
       "  0%|          | 0/27 [00:00<?, ?it/s]"
      ]
     },
     "metadata": {},
     "output_type": "display_data"
    },
    {
     "name": "stdout",
     "output_type": "stream",
     "text": [
      "{'eval_loss': 6.201365947723389, 'eval_runtime': 35.2341, 'eval_samples_per_second': 5.96, 'eval_steps_per_second': 0.766, 'epoch': 91.0}\n",
      "{'loss': 0.1403, 'grad_norm': 0.04608221724629402, 'learning_rate': 0.00016, 'epoch': 92.0}\n"
     ]
    },
    {
     "data": {
      "application/vnd.jupyter.widget-view+json": {
       "model_id": "16c2c5561a3f4b2885156ca70f8c9d1f",
       "version_major": 2,
       "version_minor": 0
      },
      "text/plain": [
       "  0%|          | 0/27 [00:00<?, ?it/s]"
      ]
     },
     "metadata": {},
     "output_type": "display_data"
    },
    {
     "name": "stdout",
     "output_type": "stream",
     "text": [
      "{'eval_loss': 6.206197738647461, 'eval_runtime': 35.5231, 'eval_samples_per_second': 5.912, 'eval_steps_per_second': 0.76, 'epoch': 92.0}\n",
      "{'loss': 0.1402, 'grad_norm': 0.048730384558439255, 'learning_rate': 0.00014000000000000001, 'epoch': 93.0}\n"
     ]
    },
    {
     "data": {
      "application/vnd.jupyter.widget-view+json": {
       "model_id": "8c27b8300c154f51884ea4d4df141f89",
       "version_major": 2,
       "version_minor": 0
      },
      "text/plain": [
       "  0%|          | 0/27 [00:00<?, ?it/s]"
      ]
     },
     "metadata": {},
     "output_type": "display_data"
    },
    {
     "name": "stdout",
     "output_type": "stream",
     "text": [
      "{'eval_loss': 6.204916477203369, 'eval_runtime': 35.8697, 'eval_samples_per_second': 5.855, 'eval_steps_per_second': 0.753, 'epoch': 93.0}\n",
      "{'loss': 0.1401, 'grad_norm': 0.04741162806749344, 'learning_rate': 0.00012, 'epoch': 94.0}\n"
     ]
    },
    {
     "data": {
      "application/vnd.jupyter.widget-view+json": {
       "model_id": "f1a88d2f2f0542c585ac35cf0087bf09",
       "version_major": 2,
       "version_minor": 0
      },
      "text/plain": [
       "  0%|          | 0/27 [00:00<?, ?it/s]"
      ]
     },
     "metadata": {},
     "output_type": "display_data"
    },
    {
     "name": "stdout",
     "output_type": "stream",
     "text": [
      "{'eval_loss': 6.207217693328857, 'eval_runtime': 35.8705, 'eval_samples_per_second': 5.854, 'eval_steps_per_second': 0.753, 'epoch': 94.0}\n",
      "{'loss': 0.1399, 'grad_norm': 0.06511170417070389, 'learning_rate': 0.0001, 'epoch': 95.0}\n"
     ]
    },
    {
     "data": {
      "application/vnd.jupyter.widget-view+json": {
       "model_id": "99aafcf4c1044e84abd0c03cbe1ce5c7",
       "version_major": 2,
       "version_minor": 0
      },
      "text/plain": [
       "  0%|          | 0/27 [00:00<?, ?it/s]"
      ]
     },
     "metadata": {},
     "output_type": "display_data"
    },
    {
     "name": "stdout",
     "output_type": "stream",
     "text": [
      "{'eval_loss': 6.20723295211792, 'eval_runtime': 35.3418, 'eval_samples_per_second': 5.942, 'eval_steps_per_second': 0.764, 'epoch': 95.0}\n",
      "{'loss': 0.1401, 'grad_norm': 0.04602372646331787, 'learning_rate': 8e-05, 'epoch': 96.0}\n"
     ]
    },
    {
     "data": {
      "application/vnd.jupyter.widget-view+json": {
       "model_id": "d75bb48e0f174241b1926626a7de8252",
       "version_major": 2,
       "version_minor": 0
      },
      "text/plain": [
       "  0%|          | 0/27 [00:00<?, ?it/s]"
      ]
     },
     "metadata": {},
     "output_type": "display_data"
    },
    {
     "name": "stdout",
     "output_type": "stream",
     "text": [
      "{'eval_loss': 6.207551956176758, 'eval_runtime': 35.1465, 'eval_samples_per_second': 5.975, 'eval_steps_per_second': 0.768, 'epoch': 96.0}\n",
      "{'loss': 0.1399, 'grad_norm': 0.05116153135895729, 'learning_rate': 6e-05, 'epoch': 97.0}\n"
     ]
    },
    {
     "data": {
      "application/vnd.jupyter.widget-view+json": {
       "model_id": "9e1a00f7c48d4184bf49ae9fe7859e12",
       "version_major": 2,
       "version_minor": 0
      },
      "text/plain": [
       "  0%|          | 0/27 [00:00<?, ?it/s]"
      ]
     },
     "metadata": {},
     "output_type": "display_data"
    },
    {
     "name": "stdout",
     "output_type": "stream",
     "text": [
      "{'eval_loss': 6.209137916564941, 'eval_runtime': 35.3676, 'eval_samples_per_second': 5.938, 'eval_steps_per_second': 0.763, 'epoch': 97.0}\n",
      "{'loss': 0.1399, 'grad_norm': 0.07090374082326889, 'learning_rate': 4e-05, 'epoch': 98.0}\n"
     ]
    },
    {
     "data": {
      "application/vnd.jupyter.widget-view+json": {
       "model_id": "032b9b24d87142deb3933431f7c25d90",
       "version_major": 2,
       "version_minor": 0
      },
      "text/plain": [
       "  0%|          | 0/27 [00:00<?, ?it/s]"
      ]
     },
     "metadata": {},
     "output_type": "display_data"
    },
    {
     "name": "stdout",
     "output_type": "stream",
     "text": [
      "{'eval_loss': 6.210533142089844, 'eval_runtime': 35.8577, 'eval_samples_per_second': 5.856, 'eval_steps_per_second': 0.753, 'epoch': 98.0}\n",
      "{'loss': 0.1397, 'grad_norm': 0.04762996360659599, 'learning_rate': 2e-05, 'epoch': 99.0}\n"
     ]
    },
    {
     "data": {
      "application/vnd.jupyter.widget-view+json": {
       "model_id": "48756aa0ee1d4a98a895b0a645b7c72a",
       "version_major": 2,
       "version_minor": 0
      },
      "text/plain": [
       "  0%|          | 0/27 [00:00<?, ?it/s]"
      ]
     },
     "metadata": {},
     "output_type": "display_data"
    },
    {
     "name": "stdout",
     "output_type": "stream",
     "text": [
      "{'eval_loss': 6.210764408111572, 'eval_runtime': 33.8903, 'eval_samples_per_second': 6.196, 'eval_steps_per_second': 0.797, 'epoch': 99.0}\n",
      "Epoch 100.0\n",
      "Perplexity = 498.0818\n",
      "{'loss': 0.1398, 'grad_norm': 0.05096082389354706, 'learning_rate': 0.0, 'epoch': 100.0}\n"
     ]
    },
    {
     "data": {
      "application/vnd.jupyter.widget-view+json": {
       "model_id": "bf35e5816ce74bebaf8c3ff409f14471",
       "version_major": 2,
       "version_minor": 0
      },
      "text/plain": [
       "  0%|          | 0/27 [00:00<?, ?it/s]"
      ]
     },
     "metadata": {},
     "output_type": "display_data"
    },
    {
     "name": "stdout",
     "output_type": "stream",
     "text": [
      "{'eval_loss': 6.210933208465576, 'eval_runtime': 108.7882, 'eval_samples_per_second': 1.93, 'eval_steps_per_second': 0.248, 'epoch': 100.0}\n",
      "{'train_runtime': 46055.7341, 'train_samples_per_second': 1.064, 'train_steps_per_second': 0.011, 'train_loss': 1.2263152315616608, 'epoch': 100.0}\n"
     ]
    },
    {
     "data": {
      "text/plain": [
       "TrainOutput(global_step=500, training_loss=1.2263152315616608, metrics={'train_runtime': 46055.7341, 'train_samples_per_second': 1.064, 'train_steps_per_second': 0.011, 'total_flos': 1421196263424000.0, 'train_loss': 1.2263152315616608, 'epoch': 100.0})"
      ]
     },
     "execution_count": 39,
     "metadata": {},
     "output_type": "execute_result"
    }
   ],
   "source": [
    "trainer.train()"
   ]
  },
  {
   "cell_type": "code",
   "execution_count": 40,
   "metadata": {},
   "outputs": [],
   "source": [
    "perplex_df = pd.DataFrame({'Epochs': per_epoch, 'Perplexity': perplex})"
   ]
  },
  {
   "cell_type": "code",
   "execution_count": 41,
   "metadata": {},
   "outputs": [
    {
     "data": {
      "text/html": [
       "<div>\n",
       "<style scoped>\n",
       "    .dataframe tbody tr th:only-of-type {\n",
       "        vertical-align: middle;\n",
       "    }\n",
       "\n",
       "    .dataframe tbody tr th {\n",
       "        vertical-align: top;\n",
       "    }\n",
       "\n",
       "    .dataframe thead th {\n",
       "        text-align: right;\n",
       "    }\n",
       "</style>\n",
       "<table border=\"1\" class=\"dataframe\">\n",
       "  <thead>\n",
       "    <tr style=\"text-align: right;\">\n",
       "      <th></th>\n",
       "      <th>Epochs</th>\n",
       "      <th>Perplexity</th>\n",
       "    </tr>\n",
       "  </thead>\n",
       "  <tbody>\n",
       "    <tr>\n",
       "      <th>0</th>\n",
       "      <td>2.0</td>\n",
       "      <td>208.903855</td>\n",
       "    </tr>\n",
       "    <tr>\n",
       "      <th>1</th>\n",
       "      <td>3.0</td>\n",
       "      <td>161.441705</td>\n",
       "    </tr>\n",
       "    <tr>\n",
       "      <th>2</th>\n",
       "      <td>4.0</td>\n",
       "      <td>160.420403</td>\n",
       "    </tr>\n",
       "    <tr>\n",
       "      <th>3</th>\n",
       "      <td>5.0</td>\n",
       "      <td>154.124282</td>\n",
       "    </tr>\n",
       "    <tr>\n",
       "      <th>4</th>\n",
       "      <td>6.0</td>\n",
       "      <td>108.961774</td>\n",
       "    </tr>\n",
       "    <tr>\n",
       "      <th>5</th>\n",
       "      <td>7.0</td>\n",
       "      <td>130.756497</td>\n",
       "    </tr>\n",
       "    <tr>\n",
       "      <th>6</th>\n",
       "      <td>8.0</td>\n",
       "      <td>125.037031</td>\n",
       "    </tr>\n",
       "    <tr>\n",
       "      <th>7</th>\n",
       "      <td>9.0</td>\n",
       "      <td>105.666495</td>\n",
       "    </tr>\n",
       "    <tr>\n",
       "      <th>8</th>\n",
       "      <td>10.0</td>\n",
       "      <td>115.096887</td>\n",
       "    </tr>\n",
       "    <tr>\n",
       "      <th>9</th>\n",
       "      <td>11.0</td>\n",
       "      <td>115.234450</td>\n",
       "    </tr>\n",
       "    <tr>\n",
       "      <th>10</th>\n",
       "      <td>12.0</td>\n",
       "      <td>119.619238</td>\n",
       "    </tr>\n",
       "    <tr>\n",
       "      <th>11</th>\n",
       "      <td>13.0</td>\n",
       "      <td>118.857410</td>\n",
       "    </tr>\n",
       "    <tr>\n",
       "      <th>12</th>\n",
       "      <td>14.0</td>\n",
       "      <td>136.565755</td>\n",
       "    </tr>\n",
       "    <tr>\n",
       "      <th>13</th>\n",
       "      <td>15.0</td>\n",
       "      <td>119.455420</td>\n",
       "    </tr>\n",
       "    <tr>\n",
       "      <th>14</th>\n",
       "      <td>16.0</td>\n",
       "      <td>126.837890</td>\n",
       "    </tr>\n",
       "    <tr>\n",
       "      <th>15</th>\n",
       "      <td>17.0</td>\n",
       "      <td>137.494837</td>\n",
       "    </tr>\n",
       "    <tr>\n",
       "      <th>16</th>\n",
       "      <td>18.0</td>\n",
       "      <td>135.580485</td>\n",
       "    </tr>\n",
       "    <tr>\n",
       "      <th>17</th>\n",
       "      <td>19.0</td>\n",
       "      <td>138.941164</td>\n",
       "    </tr>\n",
       "    <tr>\n",
       "      <th>18</th>\n",
       "      <td>20.0</td>\n",
       "      <td>138.113300</td>\n",
       "    </tr>\n",
       "    <tr>\n",
       "      <th>19</th>\n",
       "      <td>21.0</td>\n",
       "      <td>136.888086</td>\n",
       "    </tr>\n",
       "    <tr>\n",
       "      <th>20</th>\n",
       "      <td>22.0</td>\n",
       "      <td>137.797545</td>\n",
       "    </tr>\n",
       "    <tr>\n",
       "      <th>21</th>\n",
       "      <td>23.0</td>\n",
       "      <td>141.392742</td>\n",
       "    </tr>\n",
       "    <tr>\n",
       "      <th>22</th>\n",
       "      <td>24.0</td>\n",
       "      <td>139.658001</td>\n",
       "    </tr>\n",
       "    <tr>\n",
       "      <th>23</th>\n",
       "      <td>25.0</td>\n",
       "      <td>147.204421</td>\n",
       "    </tr>\n",
       "    <tr>\n",
       "      <th>24</th>\n",
       "      <td>26.0</td>\n",
       "      <td>154.126046</td>\n",
       "    </tr>\n",
       "    <tr>\n",
       "      <th>25</th>\n",
       "      <td>27.0</td>\n",
       "      <td>148.369077</td>\n",
       "    </tr>\n",
       "    <tr>\n",
       "      <th>26</th>\n",
       "      <td>28.0</td>\n",
       "      <td>158.605741</td>\n",
       "    </tr>\n",
       "    <tr>\n",
       "      <th>27</th>\n",
       "      <td>29.0</td>\n",
       "      <td>159.582461</td>\n",
       "    </tr>\n",
       "    <tr>\n",
       "      <th>28</th>\n",
       "      <td>30.0</td>\n",
       "      <td>158.735196</td>\n",
       "    </tr>\n",
       "    <tr>\n",
       "      <th>29</th>\n",
       "      <td>31.0</td>\n",
       "      <td>167.901631</td>\n",
       "    </tr>\n",
       "    <tr>\n",
       "      <th>30</th>\n",
       "      <td>32.0</td>\n",
       "      <td>171.095753</td>\n",
       "    </tr>\n",
       "    <tr>\n",
       "      <th>31</th>\n",
       "      <td>33.0</td>\n",
       "      <td>178.915305</td>\n",
       "    </tr>\n",
       "    <tr>\n",
       "      <th>32</th>\n",
       "      <td>34.0</td>\n",
       "      <td>189.854008</td>\n",
       "    </tr>\n",
       "    <tr>\n",
       "      <th>33</th>\n",
       "      <td>35.0</td>\n",
       "      <td>185.515304</td>\n",
       "    </tr>\n",
       "    <tr>\n",
       "      <th>34</th>\n",
       "      <td>36.0</td>\n",
       "      <td>197.813453</td>\n",
       "    </tr>\n",
       "    <tr>\n",
       "      <th>35</th>\n",
       "      <td>37.0</td>\n",
       "      <td>190.004709</td>\n",
       "    </tr>\n",
       "    <tr>\n",
       "      <th>36</th>\n",
       "      <td>38.0</td>\n",
       "      <td>216.709176</td>\n",
       "    </tr>\n",
       "    <tr>\n",
       "      <th>37</th>\n",
       "      <td>39.0</td>\n",
       "      <td>212.602172</td>\n",
       "    </tr>\n",
       "    <tr>\n",
       "      <th>38</th>\n",
       "      <td>40.0</td>\n",
       "      <td>235.970653</td>\n",
       "    </tr>\n",
       "    <tr>\n",
       "      <th>39</th>\n",
       "      <td>41.0</td>\n",
       "      <td>234.839849</td>\n",
       "    </tr>\n",
       "    <tr>\n",
       "      <th>40</th>\n",
       "      <td>42.0</td>\n",
       "      <td>238.614828</td>\n",
       "    </tr>\n",
       "    <tr>\n",
       "      <th>41</th>\n",
       "      <td>43.0</td>\n",
       "      <td>252.238724</td>\n",
       "    </tr>\n",
       "    <tr>\n",
       "      <th>42</th>\n",
       "      <td>44.0</td>\n",
       "      <td>246.907941</td>\n",
       "    </tr>\n",
       "    <tr>\n",
       "      <th>43</th>\n",
       "      <td>45.0</td>\n",
       "      <td>263.197344</td>\n",
       "    </tr>\n",
       "    <tr>\n",
       "      <th>44</th>\n",
       "      <td>46.0</td>\n",
       "      <td>270.801756</td>\n",
       "    </tr>\n",
       "    <tr>\n",
       "      <th>45</th>\n",
       "      <td>47.0</td>\n",
       "      <td>293.169612</td>\n",
       "    </tr>\n",
       "    <tr>\n",
       "      <th>46</th>\n",
       "      <td>48.0</td>\n",
       "      <td>310.199907</td>\n",
       "    </tr>\n",
       "    <tr>\n",
       "      <th>47</th>\n",
       "      <td>49.0</td>\n",
       "      <td>294.261616</td>\n",
       "    </tr>\n",
       "    <tr>\n",
       "      <th>48</th>\n",
       "      <td>50.0</td>\n",
       "      <td>306.412196</td>\n",
       "    </tr>\n",
       "    <tr>\n",
       "      <th>49</th>\n",
       "      <td>51.0</td>\n",
       "      <td>335.013822</td>\n",
       "    </tr>\n",
       "    <tr>\n",
       "      <th>50</th>\n",
       "      <td>52.0</td>\n",
       "      <td>330.857325</td>\n",
       "    </tr>\n",
       "    <tr>\n",
       "      <th>51</th>\n",
       "      <td>53.0</td>\n",
       "      <td>373.171848</td>\n",
       "    </tr>\n",
       "    <tr>\n",
       "      <th>52</th>\n",
       "      <td>54.0</td>\n",
       "      <td>344.682831</td>\n",
       "    </tr>\n",
       "    <tr>\n",
       "      <th>53</th>\n",
       "      <td>55.0</td>\n",
       "      <td>364.447209</td>\n",
       "    </tr>\n",
       "    <tr>\n",
       "      <th>54</th>\n",
       "      <td>56.0</td>\n",
       "      <td>368.307396</td>\n",
       "    </tr>\n",
       "    <tr>\n",
       "      <th>55</th>\n",
       "      <td>57.0</td>\n",
       "      <td>402.852865</td>\n",
       "    </tr>\n",
       "    <tr>\n",
       "      <th>56</th>\n",
       "      <td>58.0</td>\n",
       "      <td>403.020983</td>\n",
       "    </tr>\n",
       "    <tr>\n",
       "      <th>57</th>\n",
       "      <td>59.0</td>\n",
       "      <td>411.911573</td>\n",
       "    </tr>\n",
       "    <tr>\n",
       "      <th>58</th>\n",
       "      <td>60.0</td>\n",
       "      <td>423.679341</td>\n",
       "    </tr>\n",
       "    <tr>\n",
       "      <th>59</th>\n",
       "      <td>61.0</td>\n",
       "      <td>425.585895</td>\n",
       "    </tr>\n",
       "    <tr>\n",
       "      <th>60</th>\n",
       "      <td>62.0</td>\n",
       "      <td>437.827196</td>\n",
       "    </tr>\n",
       "    <tr>\n",
       "      <th>61</th>\n",
       "      <td>63.0</td>\n",
       "      <td>439.901235</td>\n",
       "    </tr>\n",
       "    <tr>\n",
       "      <th>62</th>\n",
       "      <td>64.0</td>\n",
       "      <td>442.742146</td>\n",
       "    </tr>\n",
       "    <tr>\n",
       "      <th>63</th>\n",
       "      <td>65.0</td>\n",
       "      <td>449.654710</td>\n",
       "    </tr>\n",
       "    <tr>\n",
       "      <th>64</th>\n",
       "      <td>66.0</td>\n",
       "      <td>454.789819</td>\n",
       "    </tr>\n",
       "    <tr>\n",
       "      <th>65</th>\n",
       "      <td>67.0</td>\n",
       "      <td>453.230667</td>\n",
       "    </tr>\n",
       "    <tr>\n",
       "      <th>66</th>\n",
       "      <td>68.0</td>\n",
       "      <td>454.937092</td>\n",
       "    </tr>\n",
       "    <tr>\n",
       "      <th>67</th>\n",
       "      <td>69.0</td>\n",
       "      <td>460.571552</td>\n",
       "    </tr>\n",
       "    <tr>\n",
       "      <th>68</th>\n",
       "      <td>70.0</td>\n",
       "      <td>469.343879</td>\n",
       "    </tr>\n",
       "    <tr>\n",
       "      <th>69</th>\n",
       "      <td>71.0</td>\n",
       "      <td>465.571297</td>\n",
       "    </tr>\n",
       "    <tr>\n",
       "      <th>70</th>\n",
       "      <td>72.0</td>\n",
       "      <td>467.654100</td>\n",
       "    </tr>\n",
       "    <tr>\n",
       "      <th>71</th>\n",
       "      <td>73.0</td>\n",
       "      <td>467.432941</td>\n",
       "    </tr>\n",
       "    <tr>\n",
       "      <th>72</th>\n",
       "      <td>74.0</td>\n",
       "      <td>469.349921</td>\n",
       "    </tr>\n",
       "    <tr>\n",
       "      <th>73</th>\n",
       "      <td>75.0</td>\n",
       "      <td>482.151059</td>\n",
       "    </tr>\n",
       "    <tr>\n",
       "      <th>74</th>\n",
       "      <td>76.0</td>\n",
       "      <td>482.036808</td>\n",
       "    </tr>\n",
       "    <tr>\n",
       "      <th>75</th>\n",
       "      <td>77.0</td>\n",
       "      <td>474.143713</td>\n",
       "    </tr>\n",
       "    <tr>\n",
       "      <th>76</th>\n",
       "      <td>78.0</td>\n",
       "      <td>479.310217</td>\n",
       "    </tr>\n",
       "    <tr>\n",
       "      <th>77</th>\n",
       "      <td>79.0</td>\n",
       "      <td>479.061159</td>\n",
       "    </tr>\n",
       "    <tr>\n",
       "      <th>78</th>\n",
       "      <td>80.0</td>\n",
       "      <td>483.410756</td>\n",
       "    </tr>\n",
       "    <tr>\n",
       "      <th>79</th>\n",
       "      <td>81.0</td>\n",
       "      <td>483.648468</td>\n",
       "    </tr>\n",
       "    <tr>\n",
       "      <th>80</th>\n",
       "      <td>82.0</td>\n",
       "      <td>482.683589</td>\n",
       "    </tr>\n",
       "    <tr>\n",
       "      <th>81</th>\n",
       "      <td>83.0</td>\n",
       "      <td>486.542630</td>\n",
       "    </tr>\n",
       "    <tr>\n",
       "      <th>82</th>\n",
       "      <td>84.0</td>\n",
       "      <td>487.387617</td>\n",
       "    </tr>\n",
       "    <tr>\n",
       "      <th>83</th>\n",
       "      <td>85.0</td>\n",
       "      <td>486.778633</td>\n",
       "    </tr>\n",
       "    <tr>\n",
       "      <th>84</th>\n",
       "      <td>86.0</td>\n",
       "      <td>490.178856</td>\n",
       "    </tr>\n",
       "    <tr>\n",
       "      <th>85</th>\n",
       "      <td>87.0</td>\n",
       "      <td>488.023891</td>\n",
       "    </tr>\n",
       "    <tr>\n",
       "      <th>86</th>\n",
       "      <td>88.0</td>\n",
       "      <td>490.363074</td>\n",
       "    </tr>\n",
       "    <tr>\n",
       "      <th>87</th>\n",
       "      <td>89.0</td>\n",
       "      <td>494.135048</td>\n",
       "    </tr>\n",
       "    <tr>\n",
       "      <th>88</th>\n",
       "      <td>90.0</td>\n",
       "      <td>493.649199</td>\n",
       "    </tr>\n",
       "    <tr>\n",
       "      <th>89</th>\n",
       "      <td>91.0</td>\n",
       "      <td>493.462805</td>\n",
       "    </tr>\n",
       "    <tr>\n",
       "      <th>90</th>\n",
       "      <td>92.0</td>\n",
       "      <td>493.422570</td>\n",
       "    </tr>\n",
       "    <tr>\n",
       "      <th>91</th>\n",
       "      <td>93.0</td>\n",
       "      <td>495.812454</td>\n",
       "    </tr>\n",
       "    <tr>\n",
       "      <th>92</th>\n",
       "      <td>94.0</td>\n",
       "      <td>495.177596</td>\n",
       "    </tr>\n",
       "    <tr>\n",
       "      <th>93</th>\n",
       "      <td>95.0</td>\n",
       "      <td>496.318418</td>\n",
       "    </tr>\n",
       "    <tr>\n",
       "      <th>94</th>\n",
       "      <td>96.0</td>\n",
       "      <td>496.325992</td>\n",
       "    </tr>\n",
       "    <tr>\n",
       "      <th>95</th>\n",
       "      <td>97.0</td>\n",
       "      <td>496.484347</td>\n",
       "    </tr>\n",
       "    <tr>\n",
       "      <th>96</th>\n",
       "      <td>98.0</td>\n",
       "      <td>497.272376</td>\n",
       "    </tr>\n",
       "    <tr>\n",
       "      <th>97</th>\n",
       "      <td>99.0</td>\n",
       "      <td>497.966668</td>\n",
       "    </tr>\n",
       "    <tr>\n",
       "      <th>98</th>\n",
       "      <td>100.0</td>\n",
       "      <td>498.081844</td>\n",
       "    </tr>\n",
       "  </tbody>\n",
       "</table>\n",
       "</div>"
      ],
      "text/plain": [
       "    Epochs  Perplexity\n",
       "0      2.0  208.903855\n",
       "1      3.0  161.441705\n",
       "2      4.0  160.420403\n",
       "3      5.0  154.124282\n",
       "4      6.0  108.961774\n",
       "5      7.0  130.756497\n",
       "6      8.0  125.037031\n",
       "7      9.0  105.666495\n",
       "8     10.0  115.096887\n",
       "9     11.0  115.234450\n",
       "10    12.0  119.619238\n",
       "11    13.0  118.857410\n",
       "12    14.0  136.565755\n",
       "13    15.0  119.455420\n",
       "14    16.0  126.837890\n",
       "15    17.0  137.494837\n",
       "16    18.0  135.580485\n",
       "17    19.0  138.941164\n",
       "18    20.0  138.113300\n",
       "19    21.0  136.888086\n",
       "20    22.0  137.797545\n",
       "21    23.0  141.392742\n",
       "22    24.0  139.658001\n",
       "23    25.0  147.204421\n",
       "24    26.0  154.126046\n",
       "25    27.0  148.369077\n",
       "26    28.0  158.605741\n",
       "27    29.0  159.582461\n",
       "28    30.0  158.735196\n",
       "29    31.0  167.901631\n",
       "30    32.0  171.095753\n",
       "31    33.0  178.915305\n",
       "32    34.0  189.854008\n",
       "33    35.0  185.515304\n",
       "34    36.0  197.813453\n",
       "35    37.0  190.004709\n",
       "36    38.0  216.709176\n",
       "37    39.0  212.602172\n",
       "38    40.0  235.970653\n",
       "39    41.0  234.839849\n",
       "40    42.0  238.614828\n",
       "41    43.0  252.238724\n",
       "42    44.0  246.907941\n",
       "43    45.0  263.197344\n",
       "44    46.0  270.801756\n",
       "45    47.0  293.169612\n",
       "46    48.0  310.199907\n",
       "47    49.0  294.261616\n",
       "48    50.0  306.412196\n",
       "49    51.0  335.013822\n",
       "50    52.0  330.857325\n",
       "51    53.0  373.171848\n",
       "52    54.0  344.682831\n",
       "53    55.0  364.447209\n",
       "54    56.0  368.307396\n",
       "55    57.0  402.852865\n",
       "56    58.0  403.020983\n",
       "57    59.0  411.911573\n",
       "58    60.0  423.679341\n",
       "59    61.0  425.585895\n",
       "60    62.0  437.827196\n",
       "61    63.0  439.901235\n",
       "62    64.0  442.742146\n",
       "63    65.0  449.654710\n",
       "64    66.0  454.789819\n",
       "65    67.0  453.230667\n",
       "66    68.0  454.937092\n",
       "67    69.0  460.571552\n",
       "68    70.0  469.343879\n",
       "69    71.0  465.571297\n",
       "70    72.0  467.654100\n",
       "71    73.0  467.432941\n",
       "72    74.0  469.349921\n",
       "73    75.0  482.151059\n",
       "74    76.0  482.036808\n",
       "75    77.0  474.143713\n",
       "76    78.0  479.310217\n",
       "77    79.0  479.061159\n",
       "78    80.0  483.410756\n",
       "79    81.0  483.648468\n",
       "80    82.0  482.683589\n",
       "81    83.0  486.542630\n",
       "82    84.0  487.387617\n",
       "83    85.0  486.778633\n",
       "84    86.0  490.178856\n",
       "85    87.0  488.023891\n",
       "86    88.0  490.363074\n",
       "87    89.0  494.135048\n",
       "88    90.0  493.649199\n",
       "89    91.0  493.462805\n",
       "90    92.0  493.422570\n",
       "91    93.0  495.812454\n",
       "92    94.0  495.177596\n",
       "93    95.0  496.318418\n",
       "94    96.0  496.325992\n",
       "95    97.0  496.484347\n",
       "96    98.0  497.272376\n",
       "97    99.0  497.966668\n",
       "98   100.0  498.081844"
      ]
     },
     "execution_count": 41,
     "metadata": {},
     "output_type": "execute_result"
    }
   ],
   "source": [
    "pd.set_option('display.max_rows', None)\n",
    "pd.set_option('display.max_columns', None)\n",
    "perplex_df"
   ]
  },
  {
   "cell_type": "code",
   "execution_count": 42,
   "metadata": {},
   "outputs": [],
   "source": [
    "custom_input = \"La météo est magnifique cet après-midi.\"\n",
    "input_dict = {'text': [custom_input]}"
   ]
  },
  {
   "cell_type": "code",
   "execution_count": 43,
   "metadata": {
    "colab": {
     "base_uri": "https://localhost:8080/"
    },
    "id": "gH-ssuLRtz1x",
    "outputId": "41619832-1166-4615-c812-67ad0d8d489b"
   },
   "outputs": [
    {
     "data": {
      "text/plain": [
       "{'input_ids': [[1278, 11133, 1110, 5185, 1889, 28342]]}"
      ]
     },
     "execution_count": 43,
     "metadata": {},
     "output_type": "execute_result"
    }
   ],
   "source": [
    "input_dict = {'input_ids': [tokenizer.encode(custom_input)]}\n",
    "input_dict"
   ]
  },
  {
   "cell_type": "code",
   "execution_count": 44,
   "metadata": {
    "id": "Ieq-pj78qAg4"
   },
   "outputs": [],
   "source": [
    "custom_dataset = Dataset.from_dict(input_dict)"
   ]
  },
  {
   "cell_type": "code",
   "execution_count": 45,
   "metadata": {
    "colab": {
     "base_uri": "https://localhost:8080/",
     "height": 17
    },
    "id": "hj43efXgtnHr",
    "outputId": "f8097fdc-3712-4346-cfeb-1de23b29aae6"
   },
   "outputs": [
    {
     "data": {
      "application/vnd.jupyter.widget-view+json": {
       "model_id": "0cf41e3fa51e4b3c8b9895a7be375c7d",
       "version_major": 2,
       "version_minor": 0
      },
      "text/plain": [
       "  0%|          | 0/1 [00:00<?, ?it/s]"
      ]
     },
     "metadata": {},
     "output_type": "display_data"
    }
   ],
   "source": [
    "predictions = trainer.predict(custom_dataset)"
   ]
  },
  {
   "cell_type": "code",
   "execution_count": 46,
   "metadata": {
    "colab": {
     "base_uri": "https://localhost:8080/"
    },
    "id": "MMuLhsIntoWK",
    "outputId": "6dd250ab-2bae-4428-b087-4ca8b891366b"
   },
   "outputs": [
    {
     "data": {
      "text/plain": [
       "(1, 6, 32769)"
      ]
     },
     "execution_count": 46,
     "metadata": {},
     "output_type": "execute_result"
    }
   ],
   "source": [
    "generated_outputs = predictions.predictions  # This will be logits\n",
    "generated_outputs.shape"
   ]
  },
  {
   "cell_type": "code",
   "execution_count": 47,
   "metadata": {
    "colab": {
     "base_uri": "https://localhost:8080/"
    },
    "id": "eog2ocJDuN2V",
    "outputId": "7a43db3f-ba23-4c14-e1bc-89550c9a6740"
   },
   "outputs": [
    {
     "data": {
      "text/plain": [
       "tensor([[6628, 2105, 1213, 1201, 4788, 1180]])"
      ]
     },
     "execution_count": 47,
     "metadata": {},
     "output_type": "execute_result"
    }
   ],
   "source": [
    "output_ids = torch.argmax(torch.tensor(generated_outputs), dim=2)\n",
    "output_ids"
   ]
  },
  {
   "cell_type": "code",
   "execution_count": 48,
   "metadata": {
    "colab": {
     "base_uri": "https://localhost:8080/",
     "height": 35
    },
    "id": "93I6dMbguLru",
    "outputId": "70499aea-77bd-4140-b77a-5dc2d68841da"
   },
   "outputs": [
    {
     "data": {
      "text/plain": [
       "'conférenceautre i sont meilleurs avec'"
      ]
     },
     "execution_count": 48,
     "metadata": {},
     "output_type": "execute_result"
    }
   ],
   "source": [
    "custom_input = \"Bonjour, comment allez-vous aujourd'hui ?\"\n",
    "tokenizer.decode(output_ids[0])"
   ]
  },
  {
   "cell_type": "code",
   "execution_count": 49,
   "metadata": {
    "colab": {
     "base_uri": "https://localhost:8080/"
    },
    "id": "X5UgQM2xuvM_",
    "outputId": "4755f983-424e-4ac4-ebfe-cdaeaa586cc5"
   },
   "outputs": [
    {
     "data": {
      "text/plain": [
       "tensor([[6628, 2105, 1213, 1201, 4788, 1180]])"
      ]
     },
     "execution_count": 49,
     "metadata": {},
     "output_type": "execute_result"
    }
   ],
   "source": [
    "output_ids"
   ]
  },
  {
   "cell_type": "code",
   "execution_count": 50,
   "metadata": {
    "id": "wNwwSOoUu1CS"
   },
   "outputs": [
    {
     "data": {
      "text/plain": [
       "('trained_model\\\\tokenizer_config.json',\n",
       " 'trained_model\\\\special_tokens_map.json',\n",
       " 'trained_model\\\\tokenizer.json')"
      ]
     },
     "execution_count": 50,
     "metadata": {},
     "output_type": "execute_result"
    }
   ],
   "source": [
    "trainer.save_model(\"trained_model\")\n",
    "tokenizer.save_pretrained(\"trained_model\")"
   ]
  },
  {
   "cell_type": "code",
   "execution_count": 51,
   "metadata": {},
   "outputs": [
    {
     "name": "stderr",
     "output_type": "stream",
     "text": [
      "Asking to truncate to max_length but no maximum length is provided and the model has no predefined maximum length. Default to no truncation.\n"
     ]
    },
    {
     "name": "stdout",
     "output_type": "stream",
     "text": [
      "Prompt 1: Bonjour, comment allez-vous aujourd'hui ?\n",
      "Perplexity: 11769310.06\n",
      "\n",
      "Prompt 2: Je suis très heureux de vous rencontrer.\n",
      "Perplexity: 494094.10\n",
      "\n",
      "Prompt 3: La météo est magnifique cet après-midi.\n",
      "Perplexity: 1105574.24\n",
      "\n",
      "Prompt 4: Qu'est-ce que tu veux manger ce soir ?\n",
      "Perplexity: 139059.49\n",
      "\n",
      "Prompt 5: Le voyage à Paris était incroyable.\n",
      "Perplexity: 547098.55\n",
      "\n",
      "Prompt 6: Je travaille sur un projet de machine learning.\n",
      "Perplexity: 242212.01\n",
      "\n",
      "Prompt 7: Le film que nous avons vu hier était génial.\n",
      "Perplexity: 6136713.17\n",
      "\n",
      "Prompt 8: As-tu entendu les dernières nouvelles ?\n",
      "Perplexity: 318060.91\n",
      "\n",
      "Prompt 9: La science est un domaine fascinant.\n",
      "Perplexity: 4303082.84\n",
      "\n",
      "Prompt 10: Nous devons terminer notre tâche avant minuit.\n",
      "Perplexity: 3917571.83\n",
      "\n"
     ]
    }
   ],
   "source": [
    "def calculate_perplexity(text, model, tokenizer):\n",
    "    inputs = tokenizer(text, return_tensors=\"pt\", truncation=True, padding=True)\n",
    "    input_ids = inputs[\"input_ids\"]\n",
    "\n",
    "    with torch.no_grad():\n",
    "        outputs = model(input_ids=input_ids, labels=input_ids)\n",
    "        loss = outputs.loss\n",
    "        perplexity = math.exp(loss.item())\n",
    "\n",
    "    return perplexity\n",
    "\n",
    "# Test perplexity on custom prompts\n",
    "test_prompts = [\n",
    "\"Bonjour, comment allez-vous aujourd'hui ?\",\n",
    "\"Je suis très heureux de vous rencontrer.\",\n",
    "\"La météo est magnifique cet après-midi.\",\n",
    "\"Qu'est-ce que tu veux manger ce soir ?\",\n",
    "\"Le voyage à Paris était incroyable.\",\n",
    "\"Je travaille sur un projet de machine learning.\",\n",
    "\"Le film que nous avons vu hier était génial.\",\n",
    "\"As-tu entendu les dernières nouvelles ?\",\n",
    "\"La science est un domaine fascinant.\",\n",
    "\"Nous devons terminer notre tâche avant minuit.\"\n",
    "]\n",
    "\n",
    "# Calculate perplexity for each prompt\n",
    "model = AutoModelForCausalLM.from_pretrained(\"trained_model\")\n",
    "tokenizer = AutoTokenizer.from_pretrained(\"trained_model\")\n",
    "\n",
    "for i, prompt in enumerate(test_prompts, 1):\n",
    "    perplexity = calculate_perplexity(prompt, model, tokenizer)\n",
    "    print(f\"Prompt {i}: {prompt}\")\n",
    "    print(f\"Perplexity: {perplexity:.2f}\\n\")"
   ]
  }
 ],
 "metadata": {
  "accelerator": "GPU",
  "colab": {
   "gpuType": "T4",
   "provenance": []
  },
  "kernelspec": {
   "display_name": "Python 3",
   "name": "python3"
  },
  "language_info": {
   "codemirror_mode": {
    "name": "ipython",
    "version": 3
   },
   "file_extension": ".py",
   "mimetype": "text/x-python",
   "name": "python",
   "nbconvert_exporter": "python",
   "pygments_lexer": "ipython3",
   "version": "3.11.6"
  },
  "widgets": {
   "application/vnd.jupyter.widget-state+json": {
    "14ee655203f546c48d5f351863d2a51f": {
     "model_module": "@jupyter-widgets/base",
     "model_module_version": "1.2.0",
     "model_name": "LayoutModel",
     "state": {
      "_model_module": "@jupyter-widgets/base",
      "_model_module_version": "1.2.0",
      "_model_name": "LayoutModel",
      "_view_count": null,
      "_view_module": "@jupyter-widgets/base",
      "_view_module_version": "1.2.0",
      "_view_name": "LayoutView",
      "align_content": null,
      "align_items": null,
      "align_self": null,
      "border": null,
      "bottom": null,
      "display": null,
      "flex": null,
      "flex_flow": null,
      "grid_area": null,
      "grid_auto_columns": null,
      "grid_auto_flow": null,
      "grid_auto_rows": null,
      "grid_column": null,
      "grid_gap": null,
      "grid_row": null,
      "grid_template_areas": null,
      "grid_template_columns": null,
      "grid_template_rows": null,
      "height": null,
      "justify_content": null,
      "justify_items": null,
      "left": null,
      "margin": null,
      "max_height": null,
      "max_width": null,
      "min_height": null,
      "min_width": null,
      "object_fit": null,
      "object_position": null,
      "order": null,
      "overflow": null,
      "overflow_x": null,
      "overflow_y": null,
      "padding": null,
      "right": null,
      "top": null,
      "visibility": null,
      "width": null
     }
    },
    "2f9e8a26219e4c7f9ea116abfa73a750": {
     "model_module": "@jupyter-widgets/controls",
     "model_module_version": "1.5.0",
     "model_name": "DescriptionStyleModel",
     "state": {
      "_model_module": "@jupyter-widgets/controls",
      "_model_module_version": "1.5.0",
      "_model_name": "DescriptionStyleModel",
      "_view_count": null,
      "_view_module": "@jupyter-widgets/base",
      "_view_module_version": "1.2.0",
      "_view_name": "StyleView",
      "description_width": ""
     }
    },
    "3e95ad4ca1304717808be523148b2463": {
     "model_module": "@jupyter-widgets/controls",
     "model_module_version": "1.5.0",
     "model_name": "DescriptionStyleModel",
     "state": {
      "_model_module": "@jupyter-widgets/controls",
      "_model_module_version": "1.5.0",
      "_model_name": "DescriptionStyleModel",
      "_view_count": null,
      "_view_module": "@jupyter-widgets/base",
      "_view_module_version": "1.2.0",
      "_view_name": "StyleView",
      "description_width": ""
     }
    },
    "511cf832fdeb47879e0ff2df9b3ed6d3": {
     "model_module": "@jupyter-widgets/controls",
     "model_module_version": "1.5.0",
     "model_name": "HTMLModel",
     "state": {
      "_dom_classes": [],
      "_model_module": "@jupyter-widgets/controls",
      "_model_module_version": "1.5.0",
      "_model_name": "HTMLModel",
      "_view_count": null,
      "_view_module": "@jupyter-widgets/controls",
      "_view_module_version": "1.5.0",
      "_view_name": "HTMLView",
      "description": "",
      "description_tooltip": null,
      "layout": "IPY_MODEL_14ee655203f546c48d5f351863d2a51f",
      "placeholder": "​",
      "style": "IPY_MODEL_2f9e8a26219e4c7f9ea116abfa73a750",
      "value": " 1/1 [00:00&lt;00:00, 41.58ba/s]"
     }
    },
    "56d1511d73764d19ab218f8f035de435": {
     "model_module": "@jupyter-widgets/controls",
     "model_module_version": "1.5.0",
     "model_name": "DescriptionStyleModel",
     "state": {
      "_model_module": "@jupyter-widgets/controls",
      "_model_module_version": "1.5.0",
      "_model_name": "DescriptionStyleModel",
      "_view_count": null,
      "_view_module": "@jupyter-widgets/base",
      "_view_module_version": "1.2.0",
      "_view_name": "StyleView",
      "description_width": ""
     }
    },
    "576885209d104288a6ca0a43a3a27468": {
     "model_module": "@jupyter-widgets/controls",
     "model_module_version": "1.5.0",
     "model_name": "ProgressStyleModel",
     "state": {
      "_model_module": "@jupyter-widgets/controls",
      "_model_module_version": "1.5.0",
      "_model_name": "ProgressStyleModel",
      "_view_count": null,
      "_view_module": "@jupyter-widgets/base",
      "_view_module_version": "1.2.0",
      "_view_name": "StyleView",
      "bar_color": null,
      "description_width": ""
     }
    },
    "5d91d3e8a6934c78a9e6a82e8e0eaaef": {
     "model_module": "@jupyter-widgets/controls",
     "model_module_version": "1.5.0",
     "model_name": "HBoxModel",
     "state": {
      "_dom_classes": [],
      "_model_module": "@jupyter-widgets/controls",
      "_model_module_version": "1.5.0",
      "_model_name": "HBoxModel",
      "_view_count": null,
      "_view_module": "@jupyter-widgets/controls",
      "_view_module_version": "1.5.0",
      "_view_name": "HBoxView",
      "box_style": "",
      "children": [
       "IPY_MODEL_aac9c2297b524d82a2b09b49ad9f96d7",
       "IPY_MODEL_9e2f071369f3409b8743f2679724749f",
       "IPY_MODEL_882b4b2dd53a46a5a9b1fff3c818f2eb"
      ],
      "layout": "IPY_MODEL_73f3cd6424a94e3b814db148f235e4cc"
     }
    },
    "73f3cd6424a94e3b814db148f235e4cc": {
     "model_module": "@jupyter-widgets/base",
     "model_module_version": "1.2.0",
     "model_name": "LayoutModel",
     "state": {
      "_model_module": "@jupyter-widgets/base",
      "_model_module_version": "1.2.0",
      "_model_name": "LayoutModel",
      "_view_count": null,
      "_view_module": "@jupyter-widgets/base",
      "_view_module_version": "1.2.0",
      "_view_name": "LayoutView",
      "align_content": null,
      "align_items": null,
      "align_self": null,
      "border": null,
      "bottom": null,
      "display": null,
      "flex": null,
      "flex_flow": null,
      "grid_area": null,
      "grid_auto_columns": null,
      "grid_auto_flow": null,
      "grid_auto_rows": null,
      "grid_column": null,
      "grid_gap": null,
      "grid_row": null,
      "grid_template_areas": null,
      "grid_template_columns": null,
      "grid_template_rows": null,
      "height": null,
      "justify_content": null,
      "justify_items": null,
      "left": null,
      "margin": null,
      "max_height": null,
      "max_width": null,
      "min_height": null,
      "min_width": null,
      "object_fit": null,
      "object_position": null,
      "order": null,
      "overflow": null,
      "overflow_x": null,
      "overflow_y": null,
      "padding": null,
      "right": null,
      "top": null,
      "visibility": null,
      "width": null
     }
    },
    "7b5de70a953e4a52814ad2547adfd7ee": {
     "model_module": "@jupyter-widgets/base",
     "model_module_version": "1.2.0",
     "model_name": "LayoutModel",
     "state": {
      "_model_module": "@jupyter-widgets/base",
      "_model_module_version": "1.2.0",
      "_model_name": "LayoutModel",
      "_view_count": null,
      "_view_module": "@jupyter-widgets/base",
      "_view_module_version": "1.2.0",
      "_view_name": "LayoutView",
      "align_content": null,
      "align_items": null,
      "align_self": null,
      "border": null,
      "bottom": null,
      "display": null,
      "flex": null,
      "flex_flow": null,
      "grid_area": null,
      "grid_auto_columns": null,
      "grid_auto_flow": null,
      "grid_auto_rows": null,
      "grid_column": null,
      "grid_gap": null,
      "grid_row": null,
      "grid_template_areas": null,
      "grid_template_columns": null,
      "grid_template_rows": null,
      "height": null,
      "justify_content": null,
      "justify_items": null,
      "left": null,
      "margin": null,
      "max_height": null,
      "max_width": null,
      "min_height": null,
      "min_width": null,
      "object_fit": null,
      "object_position": null,
      "order": null,
      "overflow": null,
      "overflow_x": null,
      "overflow_y": null,
      "padding": null,
      "right": null,
      "top": null,
      "visibility": null,
      "width": null
     }
    },
    "80c7921a3b394003bd18f0d032be554c": {
     "model_module": "@jupyter-widgets/base",
     "model_module_version": "1.2.0",
     "model_name": "LayoutModel",
     "state": {
      "_model_module": "@jupyter-widgets/base",
      "_model_module_version": "1.2.0",
      "_model_name": "LayoutModel",
      "_view_count": null,
      "_view_module": "@jupyter-widgets/base",
      "_view_module_version": "1.2.0",
      "_view_name": "LayoutView",
      "align_content": null,
      "align_items": null,
      "align_self": null,
      "border": null,
      "bottom": null,
      "display": null,
      "flex": null,
      "flex_flow": null,
      "grid_area": null,
      "grid_auto_columns": null,
      "grid_auto_flow": null,
      "grid_auto_rows": null,
      "grid_column": null,
      "grid_gap": null,
      "grid_row": null,
      "grid_template_areas": null,
      "grid_template_columns": null,
      "grid_template_rows": null,
      "height": null,
      "justify_content": null,
      "justify_items": null,
      "left": null,
      "margin": null,
      "max_height": null,
      "max_width": null,
      "min_height": null,
      "min_width": null,
      "object_fit": null,
      "object_position": null,
      "order": null,
      "overflow": null,
      "overflow_x": null,
      "overflow_y": null,
      "padding": null,
      "right": null,
      "top": null,
      "visibility": null,
      "width": null
     }
    },
    "882b4b2dd53a46a5a9b1fff3c818f2eb": {
     "model_module": "@jupyter-widgets/controls",
     "model_module_version": "1.5.0",
     "model_name": "HTMLModel",
     "state": {
      "_dom_classes": [],
      "_model_module": "@jupyter-widgets/controls",
      "_model_module_version": "1.5.0",
      "_model_name": "HTMLModel",
      "_view_count": null,
      "_view_module": "@jupyter-widgets/controls",
      "_view_module_version": "1.5.0",
      "_view_name": "HTMLView",
      "description": "",
      "description_tooltip": null,
      "layout": "IPY_MODEL_fb02826cbcca4406a8b4c133f60ddd47",
      "placeholder": "​",
      "style": "IPY_MODEL_a8f8a1a8a13c48f59f9b9c1150c4f117",
      "value": " 1/1 [00:00&lt;00:00, 41.83ba/s]"
     }
    },
    "95328cab32d24d72877b7dadbc7305b9": {
     "model_module": "@jupyter-widgets/controls",
     "model_module_version": "1.5.0",
     "model_name": "FloatProgressModel",
     "state": {
      "_dom_classes": [],
      "_model_module": "@jupyter-widgets/controls",
      "_model_module_version": "1.5.0",
      "_model_name": "FloatProgressModel",
      "_view_count": null,
      "_view_module": "@jupyter-widgets/controls",
      "_view_module_version": "1.5.0",
      "_view_name": "ProgressView",
      "bar_style": "success",
      "description": "",
      "description_tooltip": null,
      "layout": "IPY_MODEL_d3f9503636f340bb87611ca7e371759c",
      "max": 1,
      "min": 0,
      "orientation": "horizontal",
      "style": "IPY_MODEL_576885209d104288a6ca0a43a3a27468",
      "value": 1
     }
    },
    "97b91c140b7745f28982a0713e12ac63": {
     "model_module": "@jupyter-widgets/base",
     "model_module_version": "1.2.0",
     "model_name": "LayoutModel",
     "state": {
      "_model_module": "@jupyter-widgets/base",
      "_model_module_version": "1.2.0",
      "_model_name": "LayoutModel",
      "_view_count": null,
      "_view_module": "@jupyter-widgets/base",
      "_view_module_version": "1.2.0",
      "_view_name": "LayoutView",
      "align_content": null,
      "align_items": null,
      "align_self": null,
      "border": null,
      "bottom": null,
      "display": null,
      "flex": null,
      "flex_flow": null,
      "grid_area": null,
      "grid_auto_columns": null,
      "grid_auto_flow": null,
      "grid_auto_rows": null,
      "grid_column": null,
      "grid_gap": null,
      "grid_row": null,
      "grid_template_areas": null,
      "grid_template_columns": null,
      "grid_template_rows": null,
      "height": null,
      "justify_content": null,
      "justify_items": null,
      "left": null,
      "margin": null,
      "max_height": null,
      "max_width": null,
      "min_height": null,
      "min_width": null,
      "object_fit": null,
      "object_position": null,
      "order": null,
      "overflow": null,
      "overflow_x": null,
      "overflow_y": null,
      "padding": null,
      "right": null,
      "top": null,
      "visibility": null,
      "width": null
     }
    },
    "9e2f071369f3409b8743f2679724749f": {
     "model_module": "@jupyter-widgets/controls",
     "model_module_version": "1.5.0",
     "model_name": "FloatProgressModel",
     "state": {
      "_dom_classes": [],
      "_model_module": "@jupyter-widgets/controls",
      "_model_module_version": "1.5.0",
      "_model_name": "FloatProgressModel",
      "_view_count": null,
      "_view_module": "@jupyter-widgets/controls",
      "_view_module_version": "1.5.0",
      "_view_name": "ProgressView",
      "bar_style": "success",
      "description": "",
      "description_tooltip": null,
      "layout": "IPY_MODEL_80c7921a3b394003bd18f0d032be554c",
      "max": 1,
      "min": 0,
      "orientation": "horizontal",
      "style": "IPY_MODEL_aec4403a39c448f0b2e70608ddc8be85",
      "value": 1
     }
    },
    "a8f8a1a8a13c48f59f9b9c1150c4f117": {
     "model_module": "@jupyter-widgets/controls",
     "model_module_version": "1.5.0",
     "model_name": "DescriptionStyleModel",
     "state": {
      "_model_module": "@jupyter-widgets/controls",
      "_model_module_version": "1.5.0",
      "_model_name": "DescriptionStyleModel",
      "_view_count": null,
      "_view_module": "@jupyter-widgets/base",
      "_view_module_version": "1.2.0",
      "_view_name": "StyleView",
      "description_width": ""
     }
    },
    "aac9c2297b524d82a2b09b49ad9f96d7": {
     "model_module": "@jupyter-widgets/controls",
     "model_module_version": "1.5.0",
     "model_name": "HTMLModel",
     "state": {
      "_dom_classes": [],
      "_model_module": "@jupyter-widgets/controls",
      "_model_module_version": "1.5.0",
      "_model_name": "HTMLModel",
      "_view_count": null,
      "_view_module": "@jupyter-widgets/controls",
      "_view_module_version": "1.5.0",
      "_view_name": "HTMLView",
      "description": "",
      "description_tooltip": null,
      "layout": "IPY_MODEL_7b5de70a953e4a52814ad2547adfd7ee",
      "placeholder": "​",
      "style": "IPY_MODEL_56d1511d73764d19ab218f8f035de435",
      "value": "Creating parquet from Arrow format: 100%"
     }
    },
    "aec4403a39c448f0b2e70608ddc8be85": {
     "model_module": "@jupyter-widgets/controls",
     "model_module_version": "1.5.0",
     "model_name": "ProgressStyleModel",
     "state": {
      "_model_module": "@jupyter-widgets/controls",
      "_model_module_version": "1.5.0",
      "_model_name": "ProgressStyleModel",
      "_view_count": null,
      "_view_module": "@jupyter-widgets/base",
      "_view_module_version": "1.2.0",
      "_view_name": "StyleView",
      "bar_color": null,
      "description_width": ""
     }
    },
    "d3f9503636f340bb87611ca7e371759c": {
     "model_module": "@jupyter-widgets/base",
     "model_module_version": "1.2.0",
     "model_name": "LayoutModel",
     "state": {
      "_model_module": "@jupyter-widgets/base",
      "_model_module_version": "1.2.0",
      "_model_name": "LayoutModel",
      "_view_count": null,
      "_view_module": "@jupyter-widgets/base",
      "_view_module_version": "1.2.0",
      "_view_name": "LayoutView",
      "align_content": null,
      "align_items": null,
      "align_self": null,
      "border": null,
      "bottom": null,
      "display": null,
      "flex": null,
      "flex_flow": null,
      "grid_area": null,
      "grid_auto_columns": null,
      "grid_auto_flow": null,
      "grid_auto_rows": null,
      "grid_column": null,
      "grid_gap": null,
      "grid_row": null,
      "grid_template_areas": null,
      "grid_template_columns": null,
      "grid_template_rows": null,
      "height": null,
      "justify_content": null,
      "justify_items": null,
      "left": null,
      "margin": null,
      "max_height": null,
      "max_width": null,
      "min_height": null,
      "min_width": null,
      "object_fit": null,
      "object_position": null,
      "order": null,
      "overflow": null,
      "overflow_x": null,
      "overflow_y": null,
      "padding": null,
      "right": null,
      "top": null,
      "visibility": null,
      "width": null
     }
    },
    "d6d77a8cfed94cf68db2c7d647cddf95": {
     "model_module": "@jupyter-widgets/controls",
     "model_module_version": "1.5.0",
     "model_name": "HBoxModel",
     "state": {
      "_dom_classes": [],
      "_model_module": "@jupyter-widgets/controls",
      "_model_module_version": "1.5.0",
      "_model_name": "HBoxModel",
      "_view_count": null,
      "_view_module": "@jupyter-widgets/controls",
      "_view_module_version": "1.5.0",
      "_view_name": "HBoxView",
      "box_style": "",
      "children": [
       "IPY_MODEL_ea55fbf81cae4df0b57d82d33f15aa63",
       "IPY_MODEL_95328cab32d24d72877b7dadbc7305b9",
       "IPY_MODEL_511cf832fdeb47879e0ff2df9b3ed6d3"
      ],
      "layout": "IPY_MODEL_97b91c140b7745f28982a0713e12ac63"
     }
    },
    "dee2de472ec54b17a91c63380fe74a21": {
     "model_module": "@jupyter-widgets/base",
     "model_module_version": "1.2.0",
     "model_name": "LayoutModel",
     "state": {
      "_model_module": "@jupyter-widgets/base",
      "_model_module_version": "1.2.0",
      "_model_name": "LayoutModel",
      "_view_count": null,
      "_view_module": "@jupyter-widgets/base",
      "_view_module_version": "1.2.0",
      "_view_name": "LayoutView",
      "align_content": null,
      "align_items": null,
      "align_self": null,
      "border": null,
      "bottom": null,
      "display": null,
      "flex": null,
      "flex_flow": null,
      "grid_area": null,
      "grid_auto_columns": null,
      "grid_auto_flow": null,
      "grid_auto_rows": null,
      "grid_column": null,
      "grid_gap": null,
      "grid_row": null,
      "grid_template_areas": null,
      "grid_template_columns": null,
      "grid_template_rows": null,
      "height": null,
      "justify_content": null,
      "justify_items": null,
      "left": null,
      "margin": null,
      "max_height": null,
      "max_width": null,
      "min_height": null,
      "min_width": null,
      "object_fit": null,
      "object_position": null,
      "order": null,
      "overflow": null,
      "overflow_x": null,
      "overflow_y": null,
      "padding": null,
      "right": null,
      "top": null,
      "visibility": null,
      "width": null
     }
    },
    "ea55fbf81cae4df0b57d82d33f15aa63": {
     "model_module": "@jupyter-widgets/controls",
     "model_module_version": "1.5.0",
     "model_name": "HTMLModel",
     "state": {
      "_dom_classes": [],
      "_model_module": "@jupyter-widgets/controls",
      "_model_module_version": "1.5.0",
      "_model_name": "HTMLModel",
      "_view_count": null,
      "_view_module": "@jupyter-widgets/controls",
      "_view_module_version": "1.5.0",
      "_view_name": "HTMLView",
      "description": "",
      "description_tooltip": null,
      "layout": "IPY_MODEL_dee2de472ec54b17a91c63380fe74a21",
      "placeholder": "​",
      "style": "IPY_MODEL_3e95ad4ca1304717808be523148b2463",
      "value": "Creating parquet from Arrow format: 100%"
     }
    },
    "fb02826cbcca4406a8b4c133f60ddd47": {
     "model_module": "@jupyter-widgets/base",
     "model_module_version": "1.2.0",
     "model_name": "LayoutModel",
     "state": {
      "_model_module": "@jupyter-widgets/base",
      "_model_module_version": "1.2.0",
      "_model_name": "LayoutModel",
      "_view_count": null,
      "_view_module": "@jupyter-widgets/base",
      "_view_module_version": "1.2.0",
      "_view_name": "LayoutView",
      "align_content": null,
      "align_items": null,
      "align_self": null,
      "border": null,
      "bottom": null,
      "display": null,
      "flex": null,
      "flex_flow": null,
      "grid_area": null,
      "grid_auto_columns": null,
      "grid_auto_flow": null,
      "grid_auto_rows": null,
      "grid_column": null,
      "grid_gap": null,
      "grid_row": null,
      "grid_template_areas": null,
      "grid_template_columns": null,
      "grid_template_rows": null,
      "height": null,
      "justify_content": null,
      "justify_items": null,
      "left": null,
      "margin": null,
      "max_height": null,
      "max_width": null,
      "min_height": null,
      "min_width": null,
      "object_fit": null,
      "object_position": null,
      "order": null,
      "overflow": null,
      "overflow_x": null,
      "overflow_y": null,
      "padding": null,
      "right": null,
      "top": null,
      "visibility": null,
      "width": null
     }
    }
   }
  }
 },
 "nbformat": 4,
 "nbformat_minor": 0
}
